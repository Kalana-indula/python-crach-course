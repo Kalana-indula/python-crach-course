{
 "cells": [
  {
   "cell_type": "markdown",
   "id": "97483c1b120e2b38",
   "metadata": {},
   "source": [
    "This is rest of the Changing_adding_removing elements"
   ]
  },
  {
   "cell_type": "code",
   "execution_count": 2,
   "id": "initial_id",
   "metadata": {
    "ExecuteTime": {
     "end_time": "2024-06-16T09:11:11.989274Z",
     "start_time": "2024-06-16T09:11:11.984320Z"
    },
    "collapsed": true
   },
   "outputs": [],
   "source": [
    "motorcycles=['honda','yamaha','suzuki']"
   ]
  },
  {
   "cell_type": "code",
   "execution_count": 3,
   "id": "8f86e6b55089bdaa",
   "metadata": {
    "ExecuteTime": {
     "end_time": "2024-06-16T09:11:11.995320Z",
     "start_time": "2024-06-16T09:11:11.991284Z"
    }
   },
   "outputs": [
    {
     "name": "stdout",
     "output_type": "stream",
     "text": [
      "['honda', 'yamaha', 'suzuki']\n"
     ]
    }
   ],
   "source": [
    "print(motorcycles)"
   ]
  },
  {
   "metadata": {},
   "cell_type": "code",
   "outputs": [],
   "execution_count": null,
   "source": "",
   "id": "7163f0e2fa34415e"
  },
  {
   "cell_type": "markdown",
   "id": "a4d6262abb3db0c2",
   "metadata": {},
   "source": [
    "Using elements which a are taken out of a list"
   ]
  },
  {
   "cell_type": "code",
   "execution_count": 4,
   "id": "cc27fb34f2a6a111",
   "metadata": {
    "ExecuteTime": {
     "end_time": "2024-06-16T09:11:12.000122Z",
     "start_time": "2024-06-16T09:11:11.996329Z"
    }
   },
   "outputs": [
    {
     "name": "stdout",
     "output_type": "stream",
     "text": [
      "suzuki\n"
     ]
    }
   ],
   "source": [
    "last_motorcycle=motorcycles.pop()\n",
    "print(last_motorcycle)"
   ]
  },
  {
   "cell_type": "code",
   "execution_count": 5,
   "id": "bf59c7d7fabd5c4",
   "metadata": {
    "ExecuteTime": {
     "end_time": "2024-06-16T09:11:12.004628Z",
     "start_time": "2024-06-16T09:11:12.001131Z"
    }
   },
   "outputs": [
    {
     "name": "stdout",
     "output_type": "stream",
     "text": [
      "My last bike was a Suzuki\n"
     ]
    }
   ],
   "source": [
    "#How to use a popped element\n",
    "print(f'My last bike was a {last_motorcycle.title()}')"
   ]
  },
  {
   "cell_type": "markdown",
   "id": "44322a57721376e2",
   "metadata": {},
   "source": [
    "### How to pop a specific element"
   ]
  },
  {
   "cell_type": "code",
   "execution_count": 6,
   "id": "692cb9e38002b909",
   "metadata": {
    "ExecuteTime": {
     "end_time": "2024-06-16T09:11:12.010161Z",
     "start_time": "2024-06-16T09:11:12.006233Z"
    }
   },
   "outputs": [
    {
     "name": "stdout",
     "output_type": "stream",
     "text": [
      "My favorite motorcylce is Yamaha\n"
     ]
    }
   ],
   "source": [
    "bike=motorcycles.pop(1)\n",
    "print(f'My favorite motorcylce is {bike.title()}')"
   ]
  },
  {
   "cell_type": "markdown",
   "id": "cc0fa65d8d46a535",
   "metadata": {},
   "source": [
    "### Removing an item from a list based on the value"
   ]
  },
  {
   "cell_type": "code",
   "execution_count": 7,
   "id": "b23ae32f12b83d2b",
   "metadata": {
    "ExecuteTime": {
     "end_time": "2024-06-16T09:11:12.014683Z",
     "start_time": "2024-06-16T09:11:12.011168Z"
    }
   },
   "outputs": [
    {
     "name": "stdout",
     "output_type": "stream",
     "text": [
      "['honda', 'yamaha', 'suzuki', 'ducati']\n"
     ]
    }
   ],
   "source": [
    "motorcycles=['honda','yamaha','suzuki','ducati']\n",
    "\n",
    "print(motorcycles)"
   ]
  },
  {
   "cell_type": "code",
   "execution_count": 8,
   "id": "bd9cc32f5a98a690",
   "metadata": {
    "ExecuteTime": {
     "end_time": "2024-06-16T09:11:12.019188Z",
     "start_time": "2024-06-16T09:11:12.015202Z"
    }
   },
   "outputs": [
    {
     "name": "stdout",
     "output_type": "stream",
     "text": [
      "['honda', 'yamaha', 'suzuki']\n"
     ]
    }
   ],
   "source": [
    "motorcycles.remove('ducati')\n",
    "print(motorcycles)"
   ]
  },
  {
   "cell_type": "markdown",
   "id": "54e79c21d575c212",
   "metadata": {},
   "source": [
    "## Exercise lists"
   ]
  },
  {
   "cell_type": "code",
   "execution_count": 10,
   "id": "691cbf063d3b7a0",
   "metadata": {
    "ExecuteTime": {
     "end_time": "2024-06-16T09:11:12.052609Z",
     "start_time": "2024-06-16T09:11:12.047996Z"
    }
   },
   "outputs": [
    {
     "name": "stdout",
     "output_type": "stream",
     "text": [
      "Hello Albert Einstein, you are invited for dinner\n",
      "Hello Mark Zukerberg, you are invited for dinner\n",
      "Hello Elon Musk, you are invited for dinner\n"
     ]
    }
   ],
   "source": [
    "guest_list=['Albert Einstein','Mark Zukerberg','Elon Musk']\n",
    "\n",
    "print(f'Hello {guest_list[0]}, you are invited for dinner')\n",
    "print(f'Hello {guest_list[1]}, you are invited for dinner')\n",
    "print(f'Hello {guest_list[2]}, you are invited for dinner')"
   ]
  },
  {
   "cell_type": "code",
   "execution_count": 11,
   "id": "237a1f3b17a4aea0",
   "metadata": {
    "ExecuteTime": {
     "end_time": "2024-06-16T09:11:28.453665Z",
     "start_time": "2024-06-16T09:11:28.448938Z"
    }
   },
   "outputs": [
    {
     "name": "stdout",
     "output_type": "stream",
     "text": [
      "Elon Musk is unable to make it unfortunately\n",
      "Steve Jobs is added\n"
     ]
    }
   ],
   "source": [
    "print(f'{guest_list[2]} is unable to make it unfortunately')\n",
    "guest_list[2]='Steve Jobs'\n",
    "print(f'{guest_list[2]} is added')"
   ]
  },
  {
   "cell_type": "code",
   "execution_count": 12,
   "id": "3efd50b44f34fc6a",
   "metadata": {
    "ExecuteTime": {
     "end_time": "2024-06-16T09:16:25.617731Z",
     "start_time": "2024-06-16T09:16:25.612961Z"
    }
   },
   "outputs": [
    {
     "name": "stdout",
     "output_type": "stream",
     "text": [
      "['Lary Page', 'Nicola Tesla', 'Albert Einstein', 'Mark Zukerberg', 'Elon Musk', 'Elon Musk']\n"
     ]
    }
   ],
   "source": [
    "guest_list = ['Albert Einstein', 'Mark Zukerberg', 'Elon Musk']\n",
    "guest_list.insert(0,'Lary Page')\n",
    "guest_list.insert(1,'Nicola Tesla')\n",
    "guest_list.append('Elon Musk')\n",
    "print(guest_list)"
   ]
  },
  {
   "cell_type": "code",
   "execution_count": 13,
   "id": "9710f780bda27c6f",
   "metadata": {
    "ExecuteTime": {
     "end_time": "2024-06-16T09:20:12.535288Z",
     "start_time": "2024-06-16T09:20:12.531391Z"
    }
   },
   "outputs": [
    {
     "name": "stdout",
     "output_type": "stream",
     "text": [
      "Elon Musk sorry you are uninvited\n",
      "Elon Musk sorry you are uninvited\n",
      "Mark Zukerberg sorry you are uninvited\n",
      "Albert Einstein sorry you are uninvited\n",
      "Nicola Tesla sorry you are uninvited\n",
      "Lary Page sorry you are uninvited\n"
     ]
    }
   ],
   "source": [
    "uninvited_guest=guest_list.pop()\n",
    "print(f'{uninvited_guest} sorry you are uninvited')\n",
    "uninvited_guest=guest_list.pop()\n",
    "print(f'{uninvited_guest} sorry you are uninvited')\n",
    "uninvited_guest=guest_list.pop()\n",
    "print(f'{uninvited_guest} sorry you are uninvited')\n",
    "uninvited_guest=guest_list.pop()\n",
    "print(f'{uninvited_guest} sorry you are uninvited')\n",
    "uninvited_guest=guest_list.pop()\n",
    "print(f'{uninvited_guest} sorry you are uninvited')\n",
    "uninvited_guest=guest_list.pop()\n",
    "print(f'{uninvited_guest} sorry you are uninvited')"
   ]
  },
  {
   "cell_type": "code",
   "execution_count": null,
   "id": "38bebf31ca18c449",
   "metadata": {},
   "outputs": [],
   "source": []
  }
 ],
 "metadata": {
  "kernelspec": {
   "display_name": "Python 3",
   "language": "python",
   "name": "python3"
  },
  "language_info": {
   "codemirror_mode": {
    "name": "ipython",
    "version": 3
   },
   "file_extension": ".py",
   "mimetype": "text/x-python",
   "name": "python",
   "nbconvert_exporter": "python",
   "pygments_lexer": "ipython3",
   "version": "3.12.3"
  }
 },
 "nbformat": 4,
 "nbformat_minor": 5
}
