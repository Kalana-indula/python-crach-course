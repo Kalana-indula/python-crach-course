{
 "cells": [
  {
   "metadata": {},
   "cell_type": "markdown",
   "source": "# If statements",
   "id": "f691b6dee2540789"
  },
  {
   "metadata": {
    "ExecuteTime": {
     "end_time": "2024-06-18T07:24:50.382755Z",
     "start_time": "2024-06-18T07:24:50.377024Z"
    }
   },
   "cell_type": "code",
   "source": [
    "age = 19\n",
    "\n",
    "if age >= 18:\n",
    "    print(\"You are old enough to vote\")\n"
   ],
   "id": "8b2ad7ac0c6b93",
   "outputs": [
    {
     "name": "stdout",
     "output_type": "stream",
     "text": [
      "You are old enough to vote\n"
     ]
    }
   ],
   "execution_count": 1
  },
  {
   "metadata": {
    "ExecuteTime": {
     "end_time": "2024-06-18T08:05:34.500252Z",
     "start_time": "2024-06-18T08:05:34.496120Z"
    }
   },
   "cell_type": "code",
   "source": [
    "age = 12\n",
    "\n",
    "if age < 4:\n",
    "    print(\"You have free entrance\")\n",
    "elif age < 18:\n",
    "    print(\"Your fee is $25\")\n",
    "else:\n",
    "    print(\"Your entrance fee is $40.0\")\n"
   ],
   "id": "be55463e66ded5d3",
   "outputs": [
    {
     "name": "stdout",
     "output_type": "stream",
     "text": [
      "Your fee is $25\n"
     ]
    }
   ],
   "execution_count": 2
  },
  {
   "metadata": {},
   "cell_type": "markdown",
   "source": "## Exercise",
   "id": "42026638c4268a32"
  },
  {
   "metadata": {
    "ExecuteTime": {
     "end_time": "2024-06-18T10:38:32.794545Z",
     "start_time": "2024-06-18T10:38:32.790392Z"
    }
   },
   "cell_type": "code",
   "source": [
    "alien_color = ['green', 'yellow', 'red']\n",
    "\n",
    "for color in alien_color:\n",
    "    if color == 'green':\n",
    "        print('5 points earned')\n",
    "\n"
   ],
   "id": "42e6f89cebe3d332",
   "outputs": [
    {
     "name": "stdout",
     "output_type": "stream",
     "text": [
      "5 points earned\n"
     ]
    }
   ],
   "execution_count": 2
  },
  {
   "metadata": {
    "ExecuteTime": {
     "end_time": "2024-06-18T10:43:42.662885Z",
     "start_time": "2024-06-18T10:43:39.006915Z"
    }
   },
   "cell_type": "code",
   "source": [
    "alien_color = ['green', 'yellow', 'red']\n",
    "\n",
    "target_color = input('Enter your targe color :')\n",
    "if target_color == 'green':\n",
    "    print(\"5 points earned\")\n",
    "elif target_color == 'yellow':\n",
    "    print(\"10 points earned\")\n",
    "elif target_color == 'red':\n",
    "    print(\"15 points earned\")\n",
    "else:\n",
    "    print(\"Missed the target\")"
   ],
   "id": "9ea84189a81c1847",
   "outputs": [
    {
     "name": "stdout",
     "output_type": "stream",
     "text": [
      "Missed the target\n"
     ]
    }
   ],
   "execution_count": 5
  },
  {
   "metadata": {
    "ExecuteTime": {
     "end_time": "2024-06-18T10:48:16.699470Z",
     "start_time": "2024-06-18T10:48:13.280809Z"
    }
   },
   "cell_type": "code",
   "source": [
    "your_age = input(\"Enter the age : \")\n",
    "\n",
    "age = int(your_age)\n",
    "\n",
    "if age < 2:\n",
    "    print(\"The person is a baby\")\n",
    "elif (age >= 2) and (age < 4):\n",
    "    print(\"The person is a toddler\")\n",
    "elif (age >= 4) and (age < 13):\n",
    "    print(\"The person is a kid\")\n",
    "elif (age >= 13) and (age < 20):\n",
    "    print(\"The person is a teenager\")\n",
    "elif (age >= 20) and (age < 65):\n",
    "    print(\"The person is an adult\")\n",
    "else:\n",
    "    print(\"The person is an elder\")"
   ],
   "id": "1dedb65454c8f24e",
   "outputs": [
    {
     "name": "stdout",
     "output_type": "stream",
     "text": [
      "The person is an elder\n"
     ]
    }
   ],
   "execution_count": 8
  },
  {
   "metadata": {},
   "cell_type": "markdown",
   "source": "## If statement with lists",
   "id": "a43cd801e79ee6c9"
  },
  {
   "metadata": {
    "ExecuteTime": {
     "end_time": "2024-06-18T11:27:20.464942Z",
     "start_time": "2024-06-18T11:27:13.287446Z"
    }
   },
   "cell_type": "code",
   "source": [
    "available_toppings = ['mushrooms', 'green peppers', 'extra cheese']\n",
    "\n",
    "requested_toppings = input(\"Enter a topping you prefer : \")\n",
    "\n",
    "for topping in available_toppings:\n",
    "    if topping not in requested_toppings:\n",
    "        print(f\"Sorry we do not have {topping} here\")\n",
    "    else:\n",
    "        print(f\"Adding {topping} to your pizza\")"
   ],
   "id": "1ab80a99b2a9915a",
   "outputs": [
    {
     "name": "stdout",
     "output_type": "stream",
     "text": [
      "Sorry we do not have mushrooms here\n",
      "Sorry we do not have green peppers here\n",
      "Sorry we do not have extra cheese here\n"
     ]
    }
   ],
   "execution_count": 11
  },
  {
   "metadata": {},
   "cell_type": "markdown",
   "source": "## Checking if a list is empty or not",
   "id": "d344d02abb80a37c"
  },
  {
   "metadata": {
    "ExecuteTime": {
     "end_time": "2024-06-18T11:43:15.301668Z",
     "start_time": "2024-06-18T11:43:15.297719Z"
    }
   },
   "cell_type": "code",
   "source": [
    "requested_toppings = ['pepparoni']\n",
    "\n",
    "if requested_toppings:\n",
    "    for requested_topping in requested_toppings:\n",
    "        if requested_topping == 'green pepper':\n",
    "            print(\"Sorry we don't have green peppers right now\")\n",
    "        else:\n",
    "            print(f\"Adding {requested_topping}\")\n",
    "else:\n",
    "    print(\"Do you need a topping ?\")"
   ],
   "id": "8cc05ef3c0c38a0c",
   "outputs": [
    {
     "name": "stdout",
     "output_type": "stream",
     "text": [
      "Adding pepparoni\n"
     ]
    }
   ],
   "execution_count": 13
  },
  {
   "metadata": {
    "ExecuteTime": {
     "end_time": "2024-06-18T11:58:52.588397Z",
     "start_time": "2024-06-18T11:58:52.583524Z"
    }
   },
   "cell_type": "code",
   "source": [
    "available_toppings = ['mushrooms', 'olives', 'green peppers', 'pepperoni', 'pineapple', 'extra cheese']\n",
    "\n",
    "requested_toppings = ['mushrooms', 'french fries', 'extra cheese']\n",
    "\n",
    "for requested_topping in requested_toppings:\n",
    "    if requested_topping in available_toppings:\n",
    "        print(f\"Adding {requested_topping}\")\n",
    "    else:\n",
    "        print(f\"Sorry we don't have {requested_topping}\")\n",
    "\n",
    "print(\"\\n Finished making your pizza\")"
   ],
   "id": "2f519b2069507ace",
   "outputs": [
    {
     "name": "stdout",
     "output_type": "stream",
     "text": [
      "Adding mushrooms\n",
      "Sorry we don't have french fries\n",
      "Adding extra cheese\n",
      "\n",
      " Finished making your pizza\n"
     ]
    }
   ],
   "execution_count": 17
  },
  {
   "metadata": {},
   "cell_type": "markdown",
   "source": "## Exercise",
   "id": "a9ab6cced60796c4"
  },
  {
   "metadata": {
    "ExecuteTime": {
     "end_time": "2024-06-18T12:18:06.065042Z",
     "start_time": "2024-06-18T12:18:06.060036Z"
    }
   },
   "cell_type": "code",
   "source": [
    "usernames = ['kayla', 'sarah', 'andrew', 'maya', 'josh', 'admin']\n",
    "\n",
    "for user in usernames:\n",
    "    if user == 'admin':\n",
    "        print(f\"Hello {user} would you like to see some status update?\")\n",
    "    else:\n",
    "        print(f\"Hello {user} thank you for logging in\")"
   ],
   "id": "248541a613672c52",
   "outputs": [
    {
     "name": "stdout",
     "output_type": "stream",
     "text": [
      "Hello kayla thank you for logging in\n",
      "Hello sarah thank you for logging in\n",
      "Hello andrew thank you for logging in\n",
      "Hello maya thank you for logging in\n",
      "Hello josh thank you for logging in\n",
      "Hello admin would you like to see some status update?\n"
     ]
    }
   ],
   "execution_count": 19
  },
  {
   "metadata": {
    "ExecuteTime": {
     "end_time": "2024-06-18T12:19:24.125289Z",
     "start_time": "2024-06-18T12:19:24.121044Z"
    }
   },
   "cell_type": "code",
   "source": [
    "usernames = []\n",
    "if usernames:\n",
    "    for user in usernames:\n",
    "        if user == 'admin':\n",
    "            print(f\"Hello {user} would you like to see some status update?\")\n",
    "        else:\n",
    "            print(f\"Hello {user} thank you for logging in\")\n",
    "else:\n",
    "    print(\"We need to find some users\")"
   ],
   "id": "e8d5d44cf0b5bc09",
   "outputs": [
    {
     "name": "stdout",
     "output_type": "stream",
     "text": [
      "We need to find some users\n"
     ]
    }
   ],
   "execution_count": 20
  },
  {
   "metadata": {
    "ExecuteTime": {
     "end_time": "2024-06-18T12:27:59.884312Z",
     "start_time": "2024-06-18T12:27:59.878981Z"
    }
   },
   "cell_type": "code",
   "source": [
    "current_users=['kayla', 'sarah', 'andrew', 'maya', 'josh', 'admin']\n",
    "\n",
    "new_users=['mia','jennifer','alan','Josh']\n",
    "\n",
    "for user in new_users:\n",
    "    if user.lower() in current_users:\n",
    "        print(f\"User name {user} is already being used\")\n",
    "    else:\n",
    "        print(f\"Hi {user} thanks for joining\")"
   ],
   "id": "275a1c6d7409999f",
   "outputs": [
    {
     "name": "stdout",
     "output_type": "stream",
     "text": [
      "Hi mia thanks for joining\n",
      "Hi jennifer thanks for joining\n",
      "Hi alan thanks for joining\n",
      "User name Josh is already being used\n"
     ]
    }
   ],
   "execution_count": 22
  },
  {
   "metadata": {
    "ExecuteTime": {
     "end_time": "2024-06-18T12:46:26.436351Z",
     "start_time": "2024-06-18T12:46:26.431115Z"
    }
   },
   "cell_type": "code",
   "source": [
    "numbers=[1,2,3,4,5,6,7,8,9]\n",
    "\n",
    "for number in numbers:\n",
    "    if number==1:\n",
    "        print(f\"{number}st\")\n",
    "    elif number==2:\n",
    "        print(f\"{number}nd\")\n",
    "    elif number==3:\n",
    "        print(f\"{number}rd\")\n",
    "    else:\n",
    "        print(f\"{number}th\")"
   ],
   "id": "15b9ccb4ecbfbfdc",
   "outputs": [
    {
     "name": "stdout",
     "output_type": "stream",
     "text": [
      "1st\n",
      "2nd\n",
      "3rd\n",
      "4th\n",
      "5th\n",
      "6th\n",
      "7th\n",
      "8th\n",
      "9th\n"
     ]
    }
   ],
   "execution_count": 26
  },
  {
   "metadata": {
    "ExecuteTime": {
     "end_time": "2024-06-18T12:46:01.323811Z",
     "start_time": "2024-06-18T12:46:01.321020Z"
    }
   },
   "cell_type": "code",
   "source": "",
   "id": "5976d5b213ff5f72",
   "outputs": [],
   "execution_count": 25
  },
  {
   "metadata": {},
   "cell_type": "code",
   "outputs": [],
   "execution_count": null,
   "source": "",
   "id": "336c544427445e8d"
  }
 ],
 "metadata": {
  "kernelspec": {
   "display_name": "Python 3",
   "language": "python",
   "name": "python3"
  },
  "language_info": {
   "codemirror_mode": {
    "name": "ipython",
    "version": 2
   },
   "file_extension": ".py",
   "mimetype": "text/x-python",
   "name": "python",
   "nbconvert_exporter": "python",
   "pygments_lexer": "ipython2",
   "version": "2.7.6"
  }
 },
 "nbformat": 4,
 "nbformat_minor": 5
}
