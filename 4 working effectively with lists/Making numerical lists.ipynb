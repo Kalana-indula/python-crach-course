{
 "cells": [
  {
   "metadata": {},
   "cell_type": "markdown",
   "source": "## Numerical lists",
   "id": "6fcf6dc19d81f2cb"
  },
  {
   "metadata": {},
   "cell_type": "markdown",
   "source": "### Numbers in a range",
   "id": "41a0deb3595d75fe"
  },
  {
   "metadata": {
    "ExecuteTime": {
     "end_time": "2024-06-17T07:07:15.827454Z",
     "start_time": "2024-06-17T07:07:15.822194Z"
    }
   },
   "cell_type": "code",
   "source": [
    "for number in range(1,10):\n",
    "    print(number)"
   ],
   "id": "8af2f105b042974a",
   "outputs": [
    {
     "name": "stdout",
     "output_type": "stream",
     "text": [
      "1\n",
      "2\n",
      "3\n",
      "4\n",
      "5\n",
      "6\n",
      "7\n",
      "8\n",
      "9\n"
     ]
    }
   ],
   "execution_count": 1
  },
  {
   "metadata": {},
   "cell_type": "markdown",
   "source": "### Getting a list in a desired range",
   "id": "b6de35d28c341d8e"
  },
  {
   "metadata": {
    "ExecuteTime": {
     "end_time": "2024-06-16T15:47:27.291613Z",
     "start_time": "2024-06-16T15:47:27.287266Z"
    }
   },
   "cell_type": "code",
   "source": [
    "numbers=list(range(1,10))\n",
    "print(numbers)"
   ],
   "id": "88f94736fa730814",
   "outputs": [
    {
     "name": "stdout",
     "output_type": "stream",
     "text": [
      "[1, 2, 3, 4, 5, 6, 7, 8, 9]\n"
     ]
    }
   ],
   "execution_count": 2
  },
  {
   "metadata": {},
   "cell_type": "markdown",
   "source": "### Creating a list with even numbers",
   "id": "4f82b066b8f0a3ee"
  },
  {
   "metadata": {
    "ExecuteTime": {
     "end_time": "2024-06-16T15:55:46.283417Z",
     "start_time": "2024-06-16T15:55:46.279852Z"
    }
   },
   "cell_type": "code",
   "source": [
    "even_numbers=list(range(2,11,2))\n",
    "\n",
    "# 2 at the end is the interval\n",
    "\n",
    "print(even_numbers)"
   ],
   "id": "86fee58100b535c5",
   "outputs": [
    {
     "name": "stdout",
     "output_type": "stream",
     "text": [
      "[2, 4, 6, 8, 10]\n"
     ]
    }
   ],
   "execution_count": 3
  },
  {
   "metadata": {},
   "cell_type": "markdown",
   "source": "### Creating a list with squares of numbers within a desired range",
   "id": "6545feca7d255b50"
  },
  {
   "metadata": {
    "ExecuteTime": {
     "end_time": "2024-06-16T15:59:29.498186Z",
     "start_time": "2024-06-16T15:59:29.493824Z"
    }
   },
   "cell_type": "code",
   "source": [
    "squares=[]\n",
    "\n",
    "for value in range(2,11):\n",
    "    square=value**2\n",
    "    squares.append(square)\n",
    "    \n",
    "print(squares)"
   ],
   "id": "7110a1451014fbe1",
   "outputs": [
    {
     "name": "stdout",
     "output_type": "stream",
     "text": [
      "[4, 9, 16, 25, 36, 49, 64, 81, 100]\n"
     ]
    }
   ],
   "execution_count": 4
  },
  {
   "metadata": {},
   "cell_type": "markdown",
   "source": "### Getting sum of a number list",
   "id": "88a97e0e5faa1748"
  },
  {
   "metadata": {
    "ExecuteTime": {
     "end_time": "2024-06-17T07:18:53.749916Z",
     "start_time": "2024-06-17T07:18:53.745554Z"
    }
   },
   "cell_type": "code",
   "source": [
    "digits=[]\n",
    "\n",
    "for digit in list(range(1,11)):\n",
    "    digits.append(digit)\n",
    "\n",
    "print(digits)"
   ],
   "id": "5265f62449b54c0a",
   "outputs": [
    {
     "name": "stdout",
     "output_type": "stream",
     "text": [
      "[1, 2, 3, 4, 5, 6, 7, 8, 9, 10]\n"
     ]
    }
   ],
   "execution_count": 2
  },
  {
   "metadata": {
    "ExecuteTime": {
     "end_time": "2024-06-17T07:19:08.467220Z",
     "start_time": "2024-06-17T07:19:08.463849Z"
    }
   },
   "cell_type": "code",
   "source": "print(sum(digits))",
   "id": "136ba30d2be0a632",
   "outputs": [
    {
     "name": "stdout",
     "output_type": "stream",
     "text": [
      "55\n"
     ]
    }
   ],
   "execution_count": 3
  },
  {
   "metadata": {},
   "cell_type": "markdown",
   "source": "### creating a comprehensive list",
   "id": "383e1e5cc3b2cb67"
  },
  {
   "metadata": {
    "ExecuteTime": {
     "end_time": "2024-06-17T07:26:52.456494Z",
     "start_time": "2024-06-17T07:26:52.452208Z"
    }
   },
   "cell_type": "code",
   "source": [
    "squares=[value**2 for value in range(1,11)]\n",
    "\n",
    "print(squares)"
   ],
   "id": "ddbb4ba7ffeb513f",
   "outputs": [
    {
     "name": "stdout",
     "output_type": "stream",
     "text": [
      "[1, 4, 9, 16, 25, 36, 49, 64, 81, 100]\n"
     ]
    }
   ],
   "execution_count": 4
  },
  {
   "metadata": {},
   "cell_type": "markdown",
   "source": "### *Exercise*",
   "id": "baa6c5ee7cbee73e"
  },
  {
   "metadata": {},
   "cell_type": "markdown",
   "source": "#### Counting to twenty",
   "id": "d1f088013f66ffa9"
  },
  {
   "metadata": {
    "ExecuteTime": {
     "end_time": "2024-06-17T07:31:00.172407Z",
     "start_time": "2024-06-17T07:31:00.168920Z"
    }
   },
   "cell_type": "code",
   "source": [
    "#Method one\n",
    "numbers=[]\n",
    "\n",
    "for number in list(range(1,21)):\n",
    "    numbers.append(number)\n",
    "\n",
    "print(numbers)"
   ],
   "id": "4c1154f9e6143c66",
   "outputs": [
    {
     "name": "stdout",
     "output_type": "stream",
     "text": [
      "[1, 2, 3, 4, 5, 6, 7, 8, 9, 10, 11, 12, 13, 14, 15, 16, 17, 18, 19, 20]\n"
     ]
    }
   ],
   "execution_count": 5
  },
  {
   "metadata": {
    "ExecuteTime": {
     "end_time": "2024-06-17T07:31:42.359381Z",
     "start_time": "2024-06-17T07:31:42.354948Z"
    }
   },
   "cell_type": "code",
   "source": [
    "#Method two\n",
    "\n",
    "numbers=[number for number in range(1,21)]\n",
    "print(numbers)"
   ],
   "id": "7bd9a86ccb2c72d2",
   "outputs": [
    {
     "name": "stdout",
     "output_type": "stream",
     "text": [
      "[1, 2, 3, 4, 5, 6, 7, 8, 9, 10, 11, 12, 13, 14, 15, 16, 17, 18, 19, 20]\n"
     ]
    }
   ],
   "execution_count": 6
  },
  {
   "metadata": {},
   "cell_type": "markdown",
   "source": "### Printing odd numbers",
   "id": "4c0bc2b95fc35bdf"
  },
  {
   "metadata": {
    "ExecuteTime": {
     "end_time": "2024-06-17T07:43:23.990762Z",
     "start_time": "2024-06-17T07:43:23.987146Z"
    }
   },
   "cell_type": "code",
   "source": [
    "odd_numbers=[number for number in range(1,21,2)]\n",
    "print(odd_numbers)"
   ],
   "id": "e31c2d0368e82c5f",
   "outputs": [
    {
     "name": "stdout",
     "output_type": "stream",
     "text": [
      "[1, 3, 5, 7, 9, 11, 13, 15, 17, 19]\n"
     ]
    }
   ],
   "execution_count": 8
  },
  {
   "metadata": {},
   "cell_type": "markdown",
   "source": "### Printing multiples of 3",
   "id": "93148197da2609c9"
  },
  {
   "metadata": {
    "ExecuteTime": {
     "end_time": "2024-06-17T07:44:18.282848Z",
     "start_time": "2024-06-17T07:44:18.278204Z"
    }
   },
   "cell_type": "code",
   "source": [
    "threes=[number for number in range(3,31,3)]\n",
    "print(threes)"
   ],
   "id": "e9cdca7b61766d8d",
   "outputs": [
    {
     "name": "stdout",
     "output_type": "stream",
     "text": [
      "[3, 6, 9, 12, 15, 18, 21, 24, 27, 30]\n"
     ]
    }
   ],
   "execution_count": 9
  },
  {
   "metadata": {},
   "cell_type": "markdown",
   "source": "### Printing cubes",
   "id": "4159321996556f94"
  },
  {
   "metadata": {
    "ExecuteTime": {
     "end_time": "2024-06-17T07:47:18.792437Z",
     "start_time": "2024-06-17T07:47:18.789198Z"
    }
   },
   "cell_type": "code",
   "source": [
    "cubes=[number**3 for number in range(1,11)]\n",
    "print(cubes)"
   ],
   "id": "e2b200dc96bc41c5",
   "outputs": [
    {
     "name": "stdout",
     "output_type": "stream",
     "text": [
      "[1, 8, 27, 64, 125, 216, 343, 512, 729, 1000]\n"
     ]
    }
   ],
   "execution_count": 10
  },
  {
   "metadata": {},
   "cell_type": "code",
   "outputs": [],
   "execution_count": null,
   "source": "",
   "id": "e0dc077c3e8f1a48"
  }
 ],
 "metadata": {
  "kernelspec": {
   "display_name": "Python 3",
   "language": "python",
   "name": "python3"
  },
  "language_info": {
   "codemirror_mode": {
    "name": "ipython",
    "version": 2
   },
   "file_extension": ".py",
   "mimetype": "text/x-python",
   "name": "python",
   "nbconvert_exporter": "python",
   "pygments_lexer": "ipython2",
   "version": "2.7.6"
  }
 },
 "nbformat": 4,
 "nbformat_minor": 5
}
