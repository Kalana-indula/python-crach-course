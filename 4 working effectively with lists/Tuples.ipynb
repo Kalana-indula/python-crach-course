{
 "cells": [
  {
   "metadata": {},
   "cell_type": "markdown",
   "source": "# *Tuples*",
   "id": "10b077e3b88c62b3"
  },
  {
   "metadata": {
    "ExecuteTime": {
     "end_time": "2024-06-17T10:05:31.236848Z",
     "start_time": "2024-06-17T10:05:31.218437Z"
    }
   },
   "cell_type": "code",
   "source": [
    "dimensions=(20,50)\n",
    "print(dimensions)"
   ],
   "id": "79ddbf84ee17f553",
   "outputs": [
    {
     "name": "stdout",
     "output_type": "stream",
     "text": [
      "(20, 50)\n"
     ]
    }
   ],
   "execution_count": 1
  },
  {
   "metadata": {},
   "cell_type": "markdown",
   "source": [
    "#### Tuples does not support for item assignments\n",
    "\n",
    "dimsensions[0]=10 whould give an error"
   ],
   "id": "b8c2651f2220476e"
  },
  {
   "metadata": {
    "ExecuteTime": {
     "end_time": "2024-06-17T10:20:49.431156Z",
     "start_time": "2024-06-17T10:20:49.427660Z"
    }
   },
   "cell_type": "code",
   "source": [
    "dimensions=(200,)\n",
    "print(dimensions)"
   ],
   "id": "b64f94869d8c58bd",
   "outputs": [
    {
     "name": "stdout",
     "output_type": "stream",
     "text": [
      "(200,)\n"
     ]
    }
   ],
   "execution_count": 3
  },
  {
   "metadata": {
    "ExecuteTime": {
     "end_time": "2024-06-17T10:23:36.929044Z",
     "start_time": "2024-06-17T10:23:36.925186Z"
    }
   },
   "cell_type": "code",
   "source": [
    "dimensions=(200,50)\n",
    "for dimension in dimensions:\n",
    "    print(dimension)\n",
    "\n",
    "dimensions=(400,100)\n",
    "for dimension in dimensions:\n",
    "    print(dimension)"
   ],
   "id": "7ef8eb1c0854895a",
   "outputs": [
    {
     "name": "stdout",
     "output_type": "stream",
     "text": [
      "200\n",
      "50\n",
      "400\n",
      "100\n"
     ]
    }
   ],
   "execution_count": 4
  },
  {
   "metadata": {
    "ExecuteTime": {
     "end_time": "2024-06-17T10:28:53.128264Z",
     "start_time": "2024-06-17T10:28:53.124021Z"
    }
   },
   "cell_type": "code",
   "source": [
    "buffet=('Fried rice','Chicken rice','Kottu','Pasta','Lasangia')\n",
    "\n",
    "for food in buffet:\n",
    "    print(food)"
   ],
   "id": "5e752813bbe3c2e7",
   "outputs": [
    {
     "name": "stdout",
     "output_type": "stream",
     "text": [
      "Fried rice\n",
      "Chicken rice\n",
      "Kottu\n",
      "Pasta\n",
      "Lasangia\n"
     ]
    }
   ],
   "execution_count": 5
  },
  {
   "metadata": {
    "ExecuteTime": {
     "end_time": "2024-06-17T10:31:01.848286Z",
     "start_time": "2024-06-17T10:31:01.843638Z"
    }
   },
   "cell_type": "code",
   "source": [
    "new_buffet=('Fried rice','Chicken rice','Kottu','Bread','Noodles')\n",
    "\n",
    "print(\"new buffe items are as follows\")\n",
    "for food in new_buffet:\n",
    "    print(food)"
   ],
   "id": "205e1666bde502eb",
   "outputs": [
    {
     "name": "stdout",
     "output_type": "stream",
     "text": [
      "new buffe items are as follows\n",
      "Fried rice\n",
      "Chicken rice\n",
      "Kottu\n",
      "Bread\n",
      "Noodles\n"
     ]
    }
   ],
   "execution_count": 7
  },
  {
   "metadata": {},
   "cell_type": "code",
   "outputs": [],
   "execution_count": null,
   "source": "",
   "id": "2d478725582f6ada"
  }
 ],
 "metadata": {
  "kernelspec": {
   "display_name": "Python 3",
   "language": "python",
   "name": "python3"
  },
  "language_info": {
   "codemirror_mode": {
    "name": "ipython",
    "version": 2
   },
   "file_extension": ".py",
   "mimetype": "text/x-python",
   "name": "python",
   "nbconvert_exporter": "python",
   "pygments_lexer": "ipython2",
   "version": "2.7.6"
  }
 },
 "nbformat": 4,
 "nbformat_minor": 5
}
