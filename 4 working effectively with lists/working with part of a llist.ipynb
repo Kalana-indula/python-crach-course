{
 "cells": [
  {
   "metadata": {},
   "cell_type": "markdown",
   "source": "# *Working with part of list*",
   "id": "e581585b1c3b155b"
  },
  {
   "metadata": {},
   "cell_type": "markdown",
   "source": "### Slicing",
   "id": "d34b126a20fac509"
  },
  {
   "metadata": {
    "ExecuteTime": {
     "end_time": "2024-06-17T09:20:58.317158Z",
     "start_time": "2024-06-17T09:20:58.312115Z"
    }
   },
   "cell_type": "code",
   "source": [
    "players=['charles','martina','michael','florance','eli']\n",
    "\n",
    "print(players[0:3])"
   ],
   "id": "2f0e2d9e3cfe6590",
   "outputs": [
    {
     "name": "stdout",
     "output_type": "stream",
     "text": [
      "['charles', 'martina', 'michael']\n"
     ]
    }
   ],
   "execution_count": 1
  },
  {
   "metadata": {
    "ExecuteTime": {
     "end_time": "2024-06-17T09:26:40.488724Z",
     "start_time": "2024-06-17T09:26:40.484211Z"
    }
   },
   "cell_type": "code",
   "source": "print(players[1:4])",
   "id": "ba4da3cb4decf7f",
   "outputs": [
    {
     "name": "stdout",
     "output_type": "stream",
     "text": [
      "['martina', 'michael', 'florance']\n"
     ]
    }
   ],
   "execution_count": 2
  },
  {
   "metadata": {
    "ExecuteTime": {
     "end_time": "2024-06-17T09:28:13.053153Z",
     "start_time": "2024-06-17T09:28:13.049301Z"
    }
   },
   "cell_type": "code",
   "source": "print(players[:4])",
   "id": "66e3184b5381faab",
   "outputs": [
    {
     "name": "stdout",
     "output_type": "stream",
     "text": [
      "['charles', 'martina', 'michael', 'florance']\n"
     ]
    }
   ],
   "execution_count": 3
  },
  {
   "metadata": {
    "ExecuteTime": {
     "end_time": "2024-06-17T09:28:24.948860Z",
     "start_time": "2024-06-17T09:28:24.944743Z"
    }
   },
   "cell_type": "code",
   "source": "print(players[0:])",
   "id": "234f95e924588b77",
   "outputs": [
    {
     "name": "stdout",
     "output_type": "stream",
     "text": [
      "['charles', 'martina', 'michael', 'florance', 'eli']\n"
     ]
    }
   ],
   "execution_count": 4
  },
  {
   "metadata": {
    "ExecuteTime": {
     "end_time": "2024-06-17T09:28:39.303687Z",
     "start_time": "2024-06-17T09:28:39.299787Z"
    }
   },
   "cell_type": "code",
   "source": "print(players[-3:])",
   "id": "5110b55352a94cf0",
   "outputs": [
    {
     "name": "stdout",
     "output_type": "stream",
     "text": [
      "['michael', 'florance', 'eli']\n"
     ]
    }
   ],
   "execution_count": 5
  },
  {
   "metadata": {
    "ExecuteTime": {
     "end_time": "2024-06-17T09:29:09.126337Z",
     "start_time": "2024-06-17T09:29:09.117498Z"
    }
   },
   "cell_type": "code",
   "source": "print(players[:-3])",
   "id": "f5c41d45e9c3e4e2",
   "outputs": [
    {
     "name": "stdout",
     "output_type": "stream",
     "text": [
      "['charles', 'martina']\n"
     ]
    }
   ],
   "execution_count": 6
  },
  {
   "metadata": {},
   "cell_type": "markdown",
   "source": "### Looping through sliced lists",
   "id": "a6ca3847befce6d"
  },
  {
   "metadata": {
    "ExecuteTime": {
     "end_time": "2024-06-17T09:31:30.510561Z",
     "start_time": "2024-06-17T09:31:30.506997Z"
    }
   },
   "cell_type": "code",
   "source": [
    "players=['charles','martina','michael','florance','eli']\n",
    "\n",
    "for player in players[:3]:\n",
    "    print(player.title())"
   ],
   "id": "42696bd47d8babd1",
   "outputs": [
    {
     "name": "stdout",
     "output_type": "stream",
     "text": [
      "Charles\n",
      "Martina\n",
      "Michael\n"
     ]
    }
   ],
   "execution_count": 7
  },
  {
   "metadata": {
    "ExecuteTime": {
     "end_time": "2024-06-17T09:34:56.133739Z",
     "start_time": "2024-06-17T09:34:56.128996Z"
    }
   },
   "cell_type": "code",
   "source": [
    "my_foods=['pizza','falafel','carrot cake']\n",
    "\n",
    "friend_food=my_foods[:]\n",
    "print(my_foods)"
   ],
   "id": "a5463ebc977d7ea9",
   "outputs": [
    {
     "name": "stdout",
     "output_type": "stream",
     "text": [
      "['pizza', 'falafel', 'carrot cake']\n"
     ]
    }
   ],
   "execution_count": 8
  },
  {
   "metadata": {
    "ExecuteTime": {
     "end_time": "2024-06-17T09:35:05.294312Z",
     "start_time": "2024-06-17T09:35:05.291368Z"
    }
   },
   "cell_type": "code",
   "source": "print(friend_food)",
   "id": "e4b347bea3eb4fa4",
   "outputs": [
    {
     "name": "stdout",
     "output_type": "stream",
     "text": [
      "['pizza', 'falafel', 'carrot cake']\n"
     ]
    }
   ],
   "execution_count": 9
  },
  {
   "metadata": {
    "ExecuteTime": {
     "end_time": "2024-06-17T09:38:21.099774Z",
     "start_time": "2024-06-17T09:38:21.095757Z"
    }
   },
   "cell_type": "code",
   "source": [
    "my_foods.append('cannoli')\n",
    "friend_food.append('ice cream')\n",
    "\n",
    "print('My favorite foods are ')\n",
    "print(my_foods)"
   ],
   "id": "3ae1c73bf250b189",
   "outputs": [
    {
     "name": "stdout",
     "output_type": "stream",
     "text": [
      "My favorite foods are \n",
      "['pizza', 'falafel', 'carrot cake', 'cannoli']\n"
     ]
    }
   ],
   "execution_count": 10
  },
  {
   "metadata": {
    "ExecuteTime": {
     "end_time": "2024-06-17T09:39:01.088359Z",
     "start_time": "2024-06-17T09:39:01.084765Z"
    }
   },
   "cell_type": "code",
   "source": [
    "print(\"My friends's favorite foods are\")\n",
    "print(friend_food)"
   ],
   "id": "cb72a5f2858df02e",
   "outputs": [
    {
     "name": "stdout",
     "output_type": "stream",
     "text": [
      "My friends's favorite foods are\n",
      "['pizza', 'falafel', 'carrot cake', 'ice cream']\n"
     ]
    }
   ],
   "execution_count": 11
  },
  {
   "metadata": {},
   "cell_type": "markdown",
   "source": "### Exercise",
   "id": "443bcd81dce8c338"
  },
  {
   "metadata": {
    "ExecuteTime": {
     "end_time": "2024-06-17T09:44:19.163590Z",
     "start_time": "2024-06-17T09:44:19.159458Z"
    }
   },
   "cell_type": "code",
   "source": [
    "girls=['alice','hannah','genny','kaya','matilda','sarah','dafny']\n",
    "\n",
    "print(\"First names of the list are\")\n",
    "for girl in girls[:3]:\n",
    "    print(girl.title())\n",
    "    "
   ],
   "id": "57c25ff393f4c4e3",
   "outputs": [
    {
     "name": "stdout",
     "output_type": "stream",
     "text": [
      "First names of the list are\n",
      "Alice\n",
      "Hannah\n",
      "Genny\n"
     ]
    }
   ],
   "execution_count": 13
  },
  {
   "metadata": {
    "ExecuteTime": {
     "end_time": "2024-06-17T09:51:41.081881Z",
     "start_time": "2024-06-17T09:51:41.068295Z"
    }
   },
   "cell_type": "code",
   "source": [
    "print(\"Three girls of the middle of the list are\")\n",
    "for girl in girls[1:4]:\n",
    "    print(girl.title())"
   ],
   "id": "e570efe1b3c92170",
   "outputs": [
    {
     "name": "stdout",
     "output_type": "stream",
     "text": [
      "Three girls of the middle of the list are\n",
      "Hannah\n",
      "Genny\n",
      "Kaya\n"
     ]
    }
   ],
   "execution_count": 14
  },
  {
   "metadata": {
    "ExecuteTime": {
     "end_time": "2024-06-17T09:54:12.158598Z",
     "start_time": "2024-06-17T09:54:12.155138Z"
    }
   },
   "cell_type": "code",
   "source": [
    "print(\"Last three items of the list\")\n",
    "for girl in girls[-3:]:\n",
    "    print(girl.title())"
   ],
   "id": "2a891496a33b819a",
   "outputs": [
    {
     "name": "stdout",
     "output_type": "stream",
     "text": [
      "Last three items of the list\n",
      "Matilda\n",
      "Sarah\n",
      "Dafny\n"
     ]
    }
   ],
   "execution_count": 19
  },
  {
   "metadata": {
    "ExecuteTime": {
     "end_time": "2024-06-17T09:56:48.536605Z",
     "start_time": "2024-06-17T09:56:48.532803Z"
    }
   },
   "cell_type": "code",
   "source": [
    "my_pizza=['chicken','seafood','vegetable','cheese','peparoni']\n",
    "my_pizza.append('masala')\n",
    "print(my_pizza)"
   ],
   "id": "d75dbb22f4ebe03e",
   "outputs": [
    {
     "name": "stdout",
     "output_type": "stream",
     "text": [
      "['chicken', 'seafood', 'vegetable', 'cheese', 'peparoni', 'masala']\n"
     ]
    }
   ],
   "execution_count": 20
  },
  {
   "metadata": {
    "ExecuteTime": {
     "end_time": "2024-06-17T09:58:27.053516Z",
     "start_time": "2024-06-17T09:58:27.049781Z"
    }
   },
   "cell_type": "code",
   "source": [
    "friend_pizza=my_pizza[:]\n",
    "friend_pizza.append('cheesy sausage')\n",
    "print(friend_pizza)"
   ],
   "id": "16365430810caf29",
   "outputs": [
    {
     "name": "stdout",
     "output_type": "stream",
     "text": [
      "['chicken', 'seafood', 'vegetable', 'cheese', 'peparoni', 'masala', 'cheesy sausage']\n"
     ]
    }
   ],
   "execution_count": 22
  },
  {
   "metadata": {
    "ExecuteTime": {
     "end_time": "2024-06-17T09:59:29.846237Z",
     "start_time": "2024-06-17T09:59:29.842635Z"
    }
   },
   "cell_type": "code",
   "source": [
    "print(\"My favorite pizza are \")\n",
    "for pizza in my_pizza[:]:\n",
    "    print(pizza)"
   ],
   "id": "a76d764bed98cd67",
   "outputs": [
    {
     "name": "stdout",
     "output_type": "stream",
     "text": [
      "My favorite pizza are \n",
      "chicken\n",
      "seafood\n",
      "vegetable\n",
      "cheese\n",
      "peparoni\n",
      "masala\n"
     ]
    }
   ],
   "execution_count": 23
  },
  {
   "metadata": {
    "ExecuteTime": {
     "end_time": "2024-06-17T10:00:08.007991Z",
     "start_time": "2024-06-17T10:00:08.004778Z"
    }
   },
   "cell_type": "code",
   "source": [
    "print(\"My friend's favorite pizza are \")\n",
    "for pizza in friend_pizza[:]:\n",
    "    print(pizza)"
   ],
   "id": "e705e79b0ff159b7",
   "outputs": [
    {
     "name": "stdout",
     "output_type": "stream",
     "text": [
      "My friend's favorite pizza are \n",
      "chicken\n",
      "seafood\n",
      "vegetable\n",
      "cheese\n",
      "peparoni\n",
      "masala\n",
      "cheesy sausage\n"
     ]
    }
   ],
   "execution_count": 24
  },
  {
   "metadata": {},
   "cell_type": "code",
   "outputs": [],
   "execution_count": null,
   "source": "",
   "id": "8fda1e8ecb8d01bb"
  }
 ],
 "metadata": {
  "kernelspec": {
   "display_name": "Python 3",
   "language": "python",
   "name": "python3"
  },
  "language_info": {
   "codemirror_mode": {
    "name": "ipython",
    "version": 2
   },
   "file_extension": ".py",
   "mimetype": "text/x-python",
   "name": "python",
   "nbconvert_exporter": "python",
   "pygments_lexer": "ipython2",
   "version": "2.7.6"
  }
 },
 "nbformat": 4,
 "nbformat_minor": 5
}
