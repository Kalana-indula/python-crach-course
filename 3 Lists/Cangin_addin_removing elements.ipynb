{
 "cells": [
  {
   "metadata": {},
   "cell_type": "markdown",
   "source": "This is rest of the Changing_adding_removing elements",
   "id": "97483c1b120e2b38"
  },
  {
   "cell_type": "code",
   "id": "initial_id",
   "metadata": {
    "collapsed": true,
    "ExecuteTime": {
     "end_time": "2024-06-16T09:11:11.989274Z",
     "start_time": "2024-06-16T09:11:11.984320Z"
    }
   },
   "source": "motorcycles=['honda','yamaha','suzuki']",
   "outputs": [],
   "execution_count": 1
  },
  {
   "metadata": {
    "ExecuteTime": {
     "end_time": "2024-06-16T09:11:11.995320Z",
     "start_time": "2024-06-16T09:11:11.991284Z"
    }
   },
   "cell_type": "code",
   "source": "print(motorcycles)",
   "id": "8f86e6b55089bdaa",
   "outputs": [
    {
     "name": "stdout",
     "output_type": "stream",
     "text": [
      "['honda', 'yamaha', 'suzuki']\n"
     ]
    }
   ],
   "execution_count": 2
  },
  {
   "metadata": {},
   "cell_type": "markdown",
   "source": "Using elements which a are taken out of a list",
   "id": "a4d6262abb3db0c2"
  },
  {
   "metadata": {
    "ExecuteTime": {
     "end_time": "2024-06-16T09:11:12.000122Z",
     "start_time": "2024-06-16T09:11:11.996329Z"
    }
   },
   "cell_type": "code",
   "source": [
    "last_motorcycle=motorcycles.pop()\n",
    "print(last_motorcycle)"
   ],
   "id": "cc27fb34f2a6a111",
   "outputs": [
    {
     "name": "stdout",
     "output_type": "stream",
     "text": [
      "suzuki\n"
     ]
    }
   ],
   "execution_count": 3
  },
  {
   "metadata": {
    "ExecuteTime": {
     "end_time": "2024-06-16T09:11:12.004628Z",
     "start_time": "2024-06-16T09:11:12.001131Z"
    }
   },
   "cell_type": "code",
   "source": [
    "#How to use a popped element\n",
    "print(f'My last bike was a {last_motorcycle.title()}')"
   ],
   "id": "bf59c7d7fabd5c4",
   "outputs": [
    {
     "name": "stdout",
     "output_type": "stream",
     "text": [
      "My last bike was a Suzuki\n"
     ]
    }
   ],
   "execution_count": 4
  },
  {
   "metadata": {},
   "cell_type": "markdown",
   "source": "### How to pop a specific element",
   "id": "44322a57721376e2"
  },
  {
   "metadata": {
    "ExecuteTime": {
     "end_time": "2024-06-16T09:11:12.010161Z",
     "start_time": "2024-06-16T09:11:12.006233Z"
    }
   },
   "cell_type": "code",
   "source": [
    "bike=motorcycles.pop(1)\n",
    "print(f'My favorite motorcylce is {bike.title()}')"
   ],
   "id": "692cb9e38002b909",
   "outputs": [
    {
     "name": "stdout",
     "output_type": "stream",
     "text": [
      "My favorite motorcylce is Yamaha\n"
     ]
    }
   ],
   "execution_count": 5
  },
  {
   "metadata": {},
   "cell_type": "markdown",
   "source": "### Removing an item from a list based on the value",
   "id": "cc0fa65d8d46a535"
  },
  {
   "metadata": {
    "ExecuteTime": {
     "end_time": "2024-06-16T09:11:12.014683Z",
     "start_time": "2024-06-16T09:11:12.011168Z"
    }
   },
   "cell_type": "code",
   "source": [
    "motorcycles=['honda','yamaha','suzuki','ducati']\n",
    "\n",
    "print(motorcycles)"
   ],
   "id": "b23ae32f12b83d2b",
   "outputs": [
    {
     "name": "stdout",
     "output_type": "stream",
     "text": [
      "['honda', 'yamaha', 'suzuki', 'ducati']\n"
     ]
    }
   ],
   "execution_count": 6
  },
  {
   "metadata": {
    "ExecuteTime": {
     "end_time": "2024-06-16T09:11:12.019188Z",
     "start_time": "2024-06-16T09:11:12.015202Z"
    }
   },
   "cell_type": "code",
   "source": [
    "motorcycles.remove('ducati')\n",
    "print(motorcycles)"
   ],
   "id": "bd9cc32f5a98a690",
   "outputs": [
    {
     "name": "stdout",
     "output_type": "stream",
     "text": [
      "['honda', 'yamaha', 'suzuki']\n"
     ]
    }
   ],
   "execution_count": 7
  },
  {
   "metadata": {},
   "cell_type": "markdown",
   "source": "## Exercise lists",
   "id": "54e79c21d575c212"
  },
  {
   "metadata": {
    "ExecuteTime": {
     "end_time": "2024-06-16T09:11:12.052609Z",
     "start_time": "2024-06-16T09:11:12.047996Z"
    }
   },
   "cell_type": "code",
   "source": [
    "guest_list=['Albert Einstein','Mark Zukerberg','Elon Musk']\n",
    "\n",
    "print(f'Hello {guest_list[0]}, you are invited for dinner')\n",
    "print(f'Hello {guest_list[1]}, you are invited for dinner')\n",
    "print(f'Hello {guest_list[2]}, you are invited for dinner')"
   ],
   "id": "691cbf063d3b7a0",
   "outputs": [
    {
     "name": "stdout",
     "output_type": "stream",
     "text": [
      "Hello Albert Einstein, you are invited for dinner\n",
      "Hello Mark Zukerberg, you are invited for dinner\n",
      "Hello Elon Musk, you are invited for dinner\n"
     ]
    }
   ],
   "execution_count": 8
  },
  {
   "metadata": {
    "ExecuteTime": {
     "end_time": "2024-06-16T09:11:28.453665Z",
     "start_time": "2024-06-16T09:11:28.448938Z"
    }
   },
   "cell_type": "code",
   "source": [
    "print(f'{guest_list[2]} is unable to make it unfortunately')\n",
    "guest_list[2]='Steve Jobs'\n",
    "print(f'{guest_list[2]} is added')"
   ],
   "id": "237a1f3b17a4aea0",
   "outputs": [
    {
     "name": "stdout",
     "output_type": "stream",
     "text": [
      "Steve Jobs is unable to make it unfortunately\n",
      "Steve Jobs is added\n"
     ]
    }
   ],
   "execution_count": 10
  },
  {
   "metadata": {
    "ExecuteTime": {
     "end_time": "2024-06-16T09:16:25.617731Z",
     "start_time": "2024-06-16T09:16:25.612961Z"
    }
   },
   "cell_type": "code",
   "source": [
    "guest_list = ['Albert Einstein', 'Mark Zukerberg', 'Elon Musk']\n",
    "guest_list.insert(0,'Lary Page')\n",
    "guest_list.insert(1,'Nicola Tesla')\n",
    "guest_list.append('Elon Musk')\n",
    "print(guest_list)"
   ],
   "id": "3efd50b44f34fc6a",
   "outputs": [
    {
     "name": "stdout",
     "output_type": "stream",
     "text": [
      "['Lary Page', 'Nicola Tesla', 'Albert Einstein', 'Mark Zukerberg', 'Elon Musk', 'Elon Musk']\n"
     ]
    }
   ],
   "execution_count": 2
  },
  {
   "metadata": {
    "ExecuteTime": {
     "end_time": "2024-06-16T09:20:12.535288Z",
     "start_time": "2024-06-16T09:20:12.531391Z"
    }
   },
   "cell_type": "code",
   "source": [
    "uninvited_guest=guest_list.pop()\n",
    "print(f'{uninvited_guest} sorry you are uninvited')\n",
    "uninvited_guest=guest_list.pop()\n",
    "print(f'{uninvited_guest} sorry you are uninvited')\n",
    "uninvited_guest=guest_list.pop()\n",
    "print(f'{uninvited_guest} sorry you are uninvited')\n",
    "uninvited_guest=guest_list.pop()\n",
    "print(f'{uninvited_guest} sorry you are uninvited')\n",
    "uninvited_guest=guest_list.pop()\n",
    "print(f'{uninvited_guest} sorry you are uninvited')\n",
    "uninvited_guest=guest_list.pop()\n",
    "print(f'{uninvited_guest} sorry you are uninvited')"
   ],
   "id": "9710f780bda27c6f",
   "outputs": [
    {
     "name": "stdout",
     "output_type": "stream",
     "text": [
      "Elon Musk sorry you are uninvited\n",
      "Elon Musk sorry you are uninvited\n",
      "Mark Zukerberg sorry you are uninvited\n",
      "Albert Einstein sorry you are uninvited\n",
      "Nicola Tesla sorry you are uninvited\n",
      "Lary Page sorry you are uninvited\n"
     ]
    }
   ],
   "execution_count": 3
  },
  {
   "metadata": {},
   "cell_type": "code",
   "outputs": [],
   "execution_count": null,
   "source": "",
   "id": "38bebf31ca18c449"
  }
 ],
 "metadata": {
  "kernelspec": {
   "display_name": "Python 3",
   "language": "python",
   "name": "python3"
  },
  "language_info": {
   "codemirror_mode": {
    "name": "ipython",
    "version": 2
   },
   "file_extension": ".py",
   "mimetype": "text/x-python",
   "name": "python",
   "nbconvert_exporter": "python",
   "pygments_lexer": "ipython2",
   "version": "2.7.6"
  }
 },
 "nbformat": 4,
 "nbformat_minor": 5
}
