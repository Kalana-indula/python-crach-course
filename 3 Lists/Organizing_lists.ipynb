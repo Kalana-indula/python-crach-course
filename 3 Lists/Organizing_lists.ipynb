{
 "cells": [
  {
   "metadata": {},
   "cell_type": "markdown",
   "source": "# *Organizing lists*",
   "id": "16adc592e443875d"
  },
  {
   "metadata": {},
   "cell_type": "markdown",
   "source": " ## Sorting elements in a list",
   "id": "8157ef1bc14def91"
  },
  {
   "metadata": {
    "ExecuteTime": {
     "end_time": "2024-06-16T09:47:04.223643Z",
     "start_time": "2024-06-16T09:47:04.219363Z"
    }
   },
   "cell_type": "code",
   "source": [
    "cars=['bmw','audi','toyota','subaru']\n",
    "cars.sort()\n",
    "print(cars)"
   ],
   "id": "d755289b92352e78",
   "outputs": [
    {
     "name": "stdout",
     "output_type": "stream",
     "text": [
      "['audi', 'bmw', 'subaru', 'toyota']\n"
     ]
    }
   ],
   "execution_count": 1
  },
  {
   "metadata": {},
   "cell_type": "markdown",
   "source": "## Sorting elements in a reversed alphabatical order",
   "id": "c029d69011e9a76d"
  },
  {
   "metadata": {
    "ExecuteTime": {
     "end_time": "2024-06-16T09:48:42.869267Z",
     "start_time": "2024-06-16T09:48:42.865850Z"
    }
   },
   "cell_type": "code",
   "source": [
    "cars=['bmw','audi','toyota','subaru']\n",
    "cars.sort(reverse=True)\n",
    "print(cars)"
   ],
   "id": "4a142be6fe9f755f",
   "outputs": [
    {
     "name": "stdout",
     "output_type": "stream",
     "text": [
      "['toyota', 'subaru', 'bmw', 'audi']\n"
     ]
    }
   ],
   "execution_count": 2
  },
  {
   "metadata": {},
   "cell_type": "markdown",
   "source": "## Sorting elements in a list temporarily",
   "id": "e4b807c2aaa1dfea"
  },
  {
   "metadata": {
    "ExecuteTime": {
     "end_time": "2024-06-16T09:50:29.814484Z",
     "start_time": "2024-06-16T09:50:29.811484Z"
    }
   },
   "cell_type": "code",
   "source": [
    "cars=['bmw','audi','toyota','subaru']\n",
    "\n",
    "print(sorted(cars))\n",
    "\n",
    "print(cars)"
   ],
   "id": "41563c6b14727c82",
   "outputs": [
    {
     "name": "stdout",
     "output_type": "stream",
     "text": [
      "['audi', 'bmw', 'subaru', 'toyota']\n",
      "['bmw', 'audi', 'toyota', 'subaru']\n"
     ]
    }
   ],
   "execution_count": 3
  },
  {
   "metadata": {},
   "cell_type": "markdown",
   "source": "## *how ever elements with different case can not be sorted correctly*\n",
   "id": "7bb7e97dd74db04c"
  },
  {
   "metadata": {
    "ExecuteTime": {
     "end_time": "2024-06-16T09:58:06.237116Z",
     "start_time": "2024-06-16T09:58:06.232895Z"
    }
   },
   "cell_type": "code",
   "source": [
    "cars=['bmw','audi','Toyota','Subaru']\n",
    "\n",
    "cars.sort()\n",
    "print(cars)"
   ],
   "id": "179d24b1fe351aac",
   "outputs": [
    {
     "name": "stdout",
     "output_type": "stream",
     "text": [
      "['Subaru', 'Toyota', 'audi', 'bmw']\n"
     ]
    }
   ],
   "execution_count": 4
  },
  {
   "metadata": {},
   "cell_type": "markdown",
   "source": "## Sorted list can be reversed to it's initial state",
   "id": "cda58bf75035be45"
  },
  {
   "metadata": {
    "ExecuteTime": {
     "end_time": "2024-06-16T10:04:32.342718Z",
     "start_time": "2024-06-16T10:04:32.338796Z"
    }
   },
   "cell_type": "code",
   "source": [
    "cars=['bmw','audi','Toyota','Subaru']\n",
    "\n",
    "cars.sort()\n",
    "print(cars)"
   ],
   "id": "c0577c8b511282e5",
   "outputs": [
    {
     "name": "stdout",
     "output_type": "stream",
     "text": [
      "['Subaru', 'Toyota', 'audi', 'bmw']\n"
     ]
    }
   ],
   "execution_count": 8
  },
  {
   "metadata": {
    "ExecuteTime": {
     "end_time": "2024-06-16T10:04:41.237265Z",
     "start_time": "2024-06-16T10:04:41.233643Z"
    }
   },
   "cell_type": "code",
   "source": [
    "cars.reverse()\n",
    "print(cars)"
   ],
   "id": "d1287a6b04093c62",
   "outputs": [
    {
     "name": "stdout",
     "output_type": "stream",
     "text": [
      "['bmw', 'audi', 'Toyota', 'Subaru']\n"
     ]
    }
   ],
   "execution_count": 10
  },
  {
   "metadata": {},
   "cell_type": "markdown",
   "source": "## Finding the length of a list",
   "id": "f874dc0f49ae7bca"
  },
  {
   "metadata": {
    "ExecuteTime": {
     "end_time": "2024-06-16T10:05:44.104263Z",
     "start_time": "2024-06-16T10:05:44.100923Z"
    }
   },
   "cell_type": "code",
   "source": [
    "cars=['bmw','audi','Toyota','Subaru']\n",
    "print(len(cars))"
   ],
   "id": "7ff276724103a330",
   "outputs": [
    {
     "name": "stdout",
     "output_type": "stream",
     "text": [
      "4\n"
     ]
    }
   ],
   "execution_count": 12
  },
  {
   "metadata": {},
   "cell_type": "markdown",
   "source": "### Exercise",
   "id": "29be5a7b06d17d70"
  },
  {
   "metadata": {
    "ExecuteTime": {
     "end_time": "2024-06-16T10:12:07.914683Z",
     "start_time": "2024-06-16T10:12:07.911733Z"
    }
   },
   "cell_type": "code",
   "source": "locations=['London','Paris','New York','Switzerland','Denmark']",
   "id": "b13001bca2ab5650",
   "outputs": [],
   "execution_count": 13
  },
  {
   "metadata": {
    "ExecuteTime": {
     "end_time": "2024-06-16T10:12:16.303548Z",
     "start_time": "2024-06-16T10:12:16.299928Z"
    }
   },
   "cell_type": "code",
   "source": "print(locations)",
   "id": "6364ddd5082a8e35",
   "outputs": [
    {
     "name": "stdout",
     "output_type": "stream",
     "text": [
      "['London', 'Paris', 'New York', 'Switzerland', 'Denmark']\n"
     ]
    }
   ],
   "execution_count": 14
  },
  {
   "metadata": {
    "ExecuteTime": {
     "end_time": "2024-06-16T10:12:35.735047Z",
     "start_time": "2024-06-16T10:12:35.731777Z"
    }
   },
   "cell_type": "code",
   "source": "print(sorted(locations))",
   "id": "bc9916334602ea80",
   "outputs": [
    {
     "name": "stdout",
     "output_type": "stream",
     "text": [
      "['Denmark', 'London', 'New York', 'Paris', 'Switzerland']\n"
     ]
    }
   ],
   "execution_count": 15
  },
  {
   "metadata": {
    "ExecuteTime": {
     "end_time": "2024-06-16T10:12:52.169324Z",
     "start_time": "2024-06-16T10:12:52.165811Z"
    }
   },
   "cell_type": "code",
   "source": "print(locations)",
   "id": "df87df5994bc4648",
   "outputs": [
    {
     "name": "stdout",
     "output_type": "stream",
     "text": [
      "['London', 'Paris', 'New York', 'Switzerland', 'Denmark']\n"
     ]
    }
   ],
   "execution_count": 16
  },
  {
   "metadata": {
    "ExecuteTime": {
     "end_time": "2024-06-16T10:16:37.390254Z",
     "start_time": "2024-06-16T10:16:37.385860Z"
    }
   },
   "cell_type": "code",
   "source": [
    "locations.reverse()\n",
    "print(locations)"
   ],
   "id": "d6eca0bddd53fdcf",
   "outputs": [
    {
     "name": "stdout",
     "output_type": "stream",
     "text": [
      "['Denmark', 'Switzerland', 'New York', 'Paris', 'London']\n"
     ]
    }
   ],
   "execution_count": 21
  },
  {
   "metadata": {
    "ExecuteTime": {
     "end_time": "2024-06-16T10:16:46.100585Z",
     "start_time": "2024-06-16T10:16:46.095981Z"
    }
   },
   "cell_type": "code",
   "source": [
    "locations.reverse()\n",
    "print(locations)"
   ],
   "id": "3f137f2ae4a29ce4",
   "outputs": [
    {
     "name": "stdout",
     "output_type": "stream",
     "text": [
      "['London', 'Paris', 'New York', 'Switzerland', 'Denmark']\n"
     ]
    }
   ],
   "execution_count": 22
  },
  {
   "metadata": {
    "ExecuteTime": {
     "end_time": "2024-06-16T10:17:51.049699Z",
     "start_time": "2024-06-16T10:17:51.045067Z"
    }
   },
   "cell_type": "code",
   "source": [
    "locations.sort()\n",
    "print(locations)"
   ],
   "id": "464d84a955cf978b",
   "outputs": [
    {
     "name": "stdout",
     "output_type": "stream",
     "text": [
      "['Denmark', 'London', 'New York', 'Paris', 'Switzerland']\n"
     ]
    }
   ],
   "execution_count": 23
  },
  {
   "metadata": {
    "ExecuteTime": {
     "end_time": "2024-06-16T10:18:05.880721Z",
     "start_time": "2024-06-16T10:18:05.876461Z"
    }
   },
   "cell_type": "code",
   "source": "print(locations)",
   "id": "be06ce5083ac0889",
   "outputs": [
    {
     "name": "stdout",
     "output_type": "stream",
     "text": [
      "['Denmark', 'London', 'New York', 'Paris', 'Switzerland']\n"
     ]
    }
   ],
   "execution_count": 24
  },
  {
   "metadata": {
    "ExecuteTime": {
     "end_time": "2024-06-16T10:18:42.160155Z",
     "start_time": "2024-06-16T10:18:42.156477Z"
    }
   },
   "cell_type": "code",
   "source": [
    "locations.sort(reverse=True)\n",
    "print(locations)"
   ],
   "id": "53f45bc648bac686",
   "outputs": [
    {
     "name": "stdout",
     "output_type": "stream",
     "text": [
      "['Switzerland', 'Paris', 'New York', 'London', 'Denmark']\n"
     ]
    }
   ],
   "execution_count": 25
  },
  {
   "metadata": {
    "ExecuteTime": {
     "end_time": "2024-06-16T10:20:40.324497Z",
     "start_time": "2024-06-16T10:20:40.320665Z"
    }
   },
   "cell_type": "code",
   "source": "print(len(locations))",
   "id": "338497b4d0fe33b4",
   "outputs": [
    {
     "name": "stdout",
     "output_type": "stream",
     "text": [
      "5\n"
     ]
    }
   ],
   "execution_count": 26
  },
  {
   "metadata": {
    "ExecuteTime": {
     "end_time": "2024-06-16T10:22:52.134430Z",
     "start_time": "2024-06-16T10:22:52.130491Z"
    }
   },
   "cell_type": "code",
   "source": [
    "locations.append('Rio')\n",
    "print(locations)"
   ],
   "id": "3fb7be49501da300",
   "outputs": [
    {
     "name": "stdout",
     "output_type": "stream",
     "text": [
      "['Switzerland', 'Paris', 'New York', 'London', 'Denmark', 'Rio']\n"
     ]
    }
   ],
   "execution_count": 27
  },
  {
   "metadata": {
    "ExecuteTime": {
     "end_time": "2024-06-16T10:23:16.461406Z",
     "start_time": "2024-06-16T10:23:16.457907Z"
    }
   },
   "cell_type": "code",
   "source": [
    "locations.insert(0,'Amsterdam')\n",
    "print(locations)"
   ],
   "id": "23e0bd6a17cf26a7",
   "outputs": [
    {
     "name": "stdout",
     "output_type": "stream",
     "text": [
      "['Amsterdam', 'Switzerland', 'Paris', 'New York', 'London', 'Denmark', 'Rio']\n"
     ]
    }
   ],
   "execution_count": 28
  },
  {
   "metadata": {},
   "cell_type": "code",
   "outputs": [],
   "execution_count": null,
   "source": "",
   "id": "c7e2dbbeeb451933"
  }
 ],
 "metadata": {
  "kernelspec": {
   "display_name": "Python 3",
   "language": "python",
   "name": "python3"
  },
  "language_info": {
   "codemirror_mode": {
    "name": "ipython",
    "version": 2
   },
   "file_extension": ".py",
   "mimetype": "text/x-python",
   "name": "python",
   "nbconvert_exporter": "python",
   "pygments_lexer": "ipython2",
   "version": "2.7.6"
  }
 },
 "nbformat": 4,
 "nbformat_minor": 5
}
