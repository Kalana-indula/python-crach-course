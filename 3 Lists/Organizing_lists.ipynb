{
 "cells": [
  {
   "cell_type": "markdown",
   "id": "16adc592e443875d",
   "metadata": {},
   "source": [
    "# *Organizing lists*"
   ]
  },
  {
   "cell_type": "markdown",
   "id": "8157ef1bc14def91",
   "metadata": {},
   "source": [
    " ## Sorting elements in a list"
   ]
  },
  {
   "cell_type": "code",
   "execution_count": null,
   "id": "d755289b92352e78",
   "metadata": {
    "ExecuteTime": {
     "end_time": "2024-06-16T09:47:04.223643Z",
     "start_time": "2024-06-16T09:47:04.219363Z"
    }
   },
   "outputs": [
    {
     "name": "stdout",
     "output_type": "stream",
     "text": [
      "['audi', 'bmw', 'subaru', 'toyota']\n"
     ]
    }
   ],
   "source": [
    "cars=['bmw','audi','toyota','subaru']\n",
    "cars.sort()\n",
    "print(cars)"
   ]
  },
  {
   "cell_type": "markdown",
   "id": "c029d69011e9a76d",
   "metadata": {},
   "source": [
    "## Sorting elements in a reversed alphabatical order"
   ]
  },
  {
   "cell_type": "code",
   "execution_count": null,
   "id": "4a142be6fe9f755f",
   "metadata": {
    "ExecuteTime": {
     "end_time": "2024-06-16T09:48:42.869267Z",
     "start_time": "2024-06-16T09:48:42.865850Z"
    }
   },
   "outputs": [
    {
     "name": "stdout",
     "output_type": "stream",
     "text": [
      "['toyota', 'subaru', 'bmw', 'audi']\n"
     ]
    }
   ],
   "source": [
    "cars=['bmw','audi','toyota','subaru']\n",
    "cars.sort(reverse=True)\n",
    "print(cars)"
   ]
  },
  {
   "cell_type": "markdown",
   "id": "e4b807c2aaa1dfea",
   "metadata": {},
   "source": [
    "## Sorting elements in a list temporarily"
   ]
  },
  {
   "cell_type": "code",
   "execution_count": 3,
   "id": "41563c6b14727c82",
   "metadata": {
    "ExecuteTime": {
     "end_time": "2024-06-16T09:50:29.814484Z",
     "start_time": "2024-06-16T09:50:29.811484Z"
    }
   },
   "outputs": [
    {
     "name": "stdout",
     "output_type": "stream",
     "text": [
      "['audi', 'bmw', 'subaru', 'toyota']\n",
      "['bmw', 'audi', 'toyota', 'subaru']\n"
     ]
    }
   ],
   "source": [
    "cars=['bmw','audi','toyota','subaru']\n",
    "\n",
    "print(sorted(cars))\n",
    "\n",
    "print(cars)"
   ]
  },
  {
   "cell_type": "markdown",
   "id": "7bb7e97dd74db04c",
   "metadata": {},
   "source": [
    "## *how ever elements with different case can not be sorted correctly*\n"
   ]
  },
  {
   "cell_type": "code",
   "execution_count": 1,
   "id": "179d24b1fe351aac",
   "metadata": {
    "ExecuteTime": {
     "end_time": "2024-06-16T09:58:06.237116Z",
     "start_time": "2024-06-16T09:58:06.232895Z"
    }
   },
   "outputs": [
    {
     "name": "stdout",
     "output_type": "stream",
     "text": [
      "['Subaru', 'Toyota', 'audi', 'bmw']\n"
     ]
    }
   ],
   "source": [
    "cars=['bmw','audi','Toyota','Subaru']\n",
    "\n",
    "cars.sort()\n",
    "print(cars)"
   ]
  },
  {
   "cell_type": "markdown",
   "id": "cda58bf75035be45",
   "metadata": {},
   "source": [
    "## Sorted list can be reversed to it's initial state"
   ]
  },
  {
   "cell_type": "code",
   "execution_count": 8,
   "id": "c0577c8b511282e5",
   "metadata": {
    "ExecuteTime": {
     "end_time": "2024-06-16T10:04:32.342718Z",
     "start_time": "2024-06-16T10:04:32.338796Z"
    }
   },
   "outputs": [
    {
     "name": "stdout",
     "output_type": "stream",
     "text": [
      "['Subaru', 'Toyota', 'audi', 'bmw']\n"
     ]
    }
   ],
   "source": [
    "cars=['bmw','audi','Toyota','Subaru']\n",
    "\n",
    "cars.sort()\n",
    "print(cars)"
   ]
  },
  {
   "cell_type": "code",
   "execution_count": 10,
   "id": "d1287a6b04093c62",
   "metadata": {
    "ExecuteTime": {
     "end_time": "2024-06-16T10:04:41.237265Z",
     "start_time": "2024-06-16T10:04:41.233643Z"
    }
   },
   "outputs": [
    {
     "name": "stdout",
     "output_type": "stream",
     "text": [
      "['bmw', 'audi', 'Toyota', 'Subaru']\n"
     ]
    }
   ],
   "source": [
    "cars.reverse()\n",
    "print(cars)"
   ]
  },
  {
   "cell_type": "markdown",
   "id": "f874dc0f49ae7bca",
   "metadata": {},
   "source": [
    "## Finding the length of a list"
   ]
  },
  {
   "cell_type": "code",
   "execution_count": 12,
   "id": "7ff276724103a330",
   "metadata": {
    "ExecuteTime": {
     "end_time": "2024-06-16T10:05:44.104263Z",
     "start_time": "2024-06-16T10:05:44.100923Z"
    }
   },
   "outputs": [
    {
     "name": "stdout",
     "output_type": "stream",
     "text": [
      "4\n"
     ]
    }
   ],
   "source": [
    "cars=['bmw','audi','Toyota','Subaru']\n",
    "print(len(cars))"
   ]
  },
  {
   "cell_type": "markdown",
   "id": "29be5a7b06d17d70",
   "metadata": {},
   "source": [
    "### Exercise"
   ]
  },
  {
   "cell_type": "code",
   "execution_count": 13,
   "id": "b13001bca2ab5650",
   "metadata": {
    "ExecuteTime": {
     "end_time": "2024-06-16T10:12:07.914683Z",
     "start_time": "2024-06-16T10:12:07.911733Z"
    }
   },
   "outputs": [],
   "source": [
    "locations=['London','Paris','New York','Switzerland','Denmark']"
   ]
  },
  {
   "cell_type": "code",
   "execution_count": 14,
   "id": "6364ddd5082a8e35",
   "metadata": {
    "ExecuteTime": {
     "end_time": "2024-06-16T10:12:16.303548Z",
     "start_time": "2024-06-16T10:12:16.299928Z"
    }
   },
   "outputs": [
    {
     "name": "stdout",
     "output_type": "stream",
     "text": [
      "['London', 'Paris', 'New York', 'Switzerland', 'Denmark']\n"
     ]
    }
   ],
   "source": [
    "print(locations)"
   ]
  },
  {
   "cell_type": "code",
   "execution_count": 15,
   "id": "bc9916334602ea80",
   "metadata": {
    "ExecuteTime": {
     "end_time": "2024-06-16T10:12:35.735047Z",
     "start_time": "2024-06-16T10:12:35.731777Z"
    }
   },
   "outputs": [
    {
     "name": "stdout",
     "output_type": "stream",
     "text": [
      "['Denmark', 'London', 'New York', 'Paris', 'Switzerland']\n"
     ]
    }
   ],
   "source": [
    "print(sorted(locations))"
   ]
  },
  {
   "cell_type": "code",
   "execution_count": 16,
   "id": "df87df5994bc4648",
   "metadata": {
    "ExecuteTime": {
     "end_time": "2024-06-16T10:12:52.169324Z",
     "start_time": "2024-06-16T10:12:52.165811Z"
    }
   },
   "outputs": [
    {
     "name": "stdout",
     "output_type": "stream",
     "text": [
      "['London', 'Paris', 'New York', 'Switzerland', 'Denmark']\n"
     ]
    }
   ],
   "source": [
    "print(locations)"
   ]
  },
  {
   "cell_type": "code",
   "execution_count": 21,
   "id": "d6eca0bddd53fdcf",
   "metadata": {
    "ExecuteTime": {
     "end_time": "2024-06-16T10:16:37.390254Z",
     "start_time": "2024-06-16T10:16:37.385860Z"
    }
   },
   "outputs": [
    {
     "name": "stdout",
     "output_type": "stream",
     "text": [
      "['Denmark', 'Switzerland', 'New York', 'Paris', 'London']\n"
     ]
    }
   ],
   "source": [
    "locations.reverse()\n",
    "print(locations)"
   ]
  },
  {
   "cell_type": "code",
   "execution_count": 22,
   "id": "3f137f2ae4a29ce4",
   "metadata": {
    "ExecuteTime": {
     "end_time": "2024-06-16T10:16:46.100585Z",
     "start_time": "2024-06-16T10:16:46.095981Z"
    }
   },
   "outputs": [
    {
     "name": "stdout",
     "output_type": "stream",
     "text": [
      "['London', 'Paris', 'New York', 'Switzerland', 'Denmark']\n"
     ]
    }
   ],
   "source": [
    "locations.reverse()\n",
    "print(locations)"
   ]
  },
  {
   "cell_type": "code",
   "execution_count": 23,
   "id": "464d84a955cf978b",
   "metadata": {
    "ExecuteTime": {
     "end_time": "2024-06-16T10:17:51.049699Z",
     "start_time": "2024-06-16T10:17:51.045067Z"
    }
   },
   "outputs": [
    {
     "name": "stdout",
     "output_type": "stream",
     "text": [
      "['Denmark', 'London', 'New York', 'Paris', 'Switzerland']\n"
     ]
    }
   ],
   "source": [
    "locations.sort()\n",
    "print(locations)"
   ]
  },
  {
   "cell_type": "code",
   "execution_count": 24,
   "id": "be06ce5083ac0889",
   "metadata": {
    "ExecuteTime": {
     "end_time": "2024-06-16T10:18:05.880721Z",
     "start_time": "2024-06-16T10:18:05.876461Z"
    }
   },
   "outputs": [
    {
     "name": "stdout",
     "output_type": "stream",
     "text": [
      "['Denmark', 'London', 'New York', 'Paris', 'Switzerland']\n"
     ]
    }
   ],
   "source": [
    "print(locations)"
   ]
  },
  {
   "cell_type": "code",
   "execution_count": 25,
   "id": "53f45bc648bac686",
   "metadata": {
    "ExecuteTime": {
     "end_time": "2024-06-16T10:18:42.160155Z",
     "start_time": "2024-06-16T10:18:42.156477Z"
    }
   },
   "outputs": [
    {
     "name": "stdout",
     "output_type": "stream",
     "text": [
      "['Switzerland', 'Paris', 'New York', 'London', 'Denmark']\n"
     ]
    }
   ],
   "source": [
    "locations.sort(reverse=True)\n",
    "print(locations)"
   ]
  },
  {
   "cell_type": "code",
   "execution_count": 26,
   "id": "338497b4d0fe33b4",
   "metadata": {
    "ExecuteTime": {
     "end_time": "2024-06-16T10:20:40.324497Z",
     "start_time": "2024-06-16T10:20:40.320665Z"
    }
   },
   "outputs": [
    {
     "name": "stdout",
     "output_type": "stream",
     "text": [
      "5\n"
     ]
    }
   ],
   "source": [
    "print(len(locations))"
   ]
  },
  {
   "cell_type": "code",
   "execution_count": 27,
   "id": "3fb7be49501da300",
   "metadata": {
    "ExecuteTime": {
     "end_time": "2024-06-16T10:22:52.134430Z",
     "start_time": "2024-06-16T10:22:52.130491Z"
    }
   },
   "outputs": [
    {
     "name": "stdout",
     "output_type": "stream",
     "text": [
      "['Switzerland', 'Paris', 'New York', 'London', 'Denmark', 'Rio']\n"
     ]
    }
   ],
   "source": [
    "locations.append('Rio')\n",
    "print(locations)"
   ]
  },
  {
   "cell_type": "code",
   "execution_count": 28,
   "id": "23e0bd6a17cf26a7",
   "metadata": {
    "ExecuteTime": {
     "end_time": "2024-06-16T10:23:16.461406Z",
     "start_time": "2024-06-16T10:23:16.457907Z"
    }
   },
   "outputs": [
    {
     "name": "stdout",
     "output_type": "stream",
     "text": [
      "['Amsterdam', 'Switzerland', 'Paris', 'New York', 'London', 'Denmark', 'Rio']\n"
     ]
    }
   ],
   "source": [
    "locations.insert(0,'Amsterdam')\n",
    "print(locations)"
   ]
  },
  {
   "cell_type": "code",
   "execution_count": null,
   "id": "c7e2dbbeeb451933",
   "metadata": {},
   "outputs": [],
   "source": []
  }
 ],
 "metadata": {
  "kernelspec": {
   "display_name": "Python 3",
   "language": "python",
   "name": "python3"
  },
  "language_info": {
   "codemirror_mode": {
    "name": "ipython",
    "version": 3
   },
   "file_extension": ".py",
   "mimetype": "text/x-python",
   "name": "python",
   "nbconvert_exporter": "python",
   "pygments_lexer": "ipython3",
   "version": "3.12.3"
  }
 },
 "nbformat": 4,
 "nbformat_minor": 5
}
