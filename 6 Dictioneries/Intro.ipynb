{
 "cells": [
  {
   "metadata": {},
   "cell_type": "markdown",
   "source": "# Dictionaries",
   "id": "3a9dc93448026bf5"
  },
  {
   "metadata": {
    "ExecuteTime": {
     "end_time": "2024-10-02T13:04:29.010617Z",
     "start_time": "2024-10-02T13:04:29.006752Z"
    }
   },
   "cell_type": "code",
   "source": [
    "my_dict={'name':'kamal','age':20,'city':'kandy'}\n",
    "student={'name':'mike','age':29,'city':'mexico'}"
   ],
   "id": "cf8aee643a968711",
   "outputs": [],
   "execution_count": 1
  },
  {
   "metadata": {
    "ExecuteTime": {
     "end_time": "2024-10-02T13:04:37.682701Z",
     "start_time": "2024-10-02T13:04:37.679971Z"
    }
   },
   "cell_type": "code",
   "source": "print(my_dict)",
   "id": "1b9e51e456f08fa2",
   "outputs": [
    {
     "name": "stdout",
     "output_type": "stream",
     "text": [
      "{'name': 'kamal', 'age': 20, 'city': 'kandy'}\n"
     ]
    }
   ],
   "execution_count": 2
  },
  {
   "metadata": {},
   "cell_type": "markdown",
   "source": "### getting a specific value",
   "id": "8918dbf3f7992078"
  },
  {
   "metadata": {
    "ExecuteTime": {
     "end_time": "2024-10-02T13:05:43.566282Z",
     "start_time": "2024-10-02T13:05:43.562737Z"
    }
   },
   "cell_type": "code",
   "source": "print(f' age is {my_dict['age']}')",
   "id": "87af1d3ce11cbc89",
   "outputs": [
    {
     "name": "stdout",
     "output_type": "stream",
     "text": [
      " age is 20\n"
     ]
    }
   ],
   "execution_count": 4
  },
  {
   "metadata": {
    "ExecuteTime": {
     "end_time": "2024-10-02T13:05:58.956796Z",
     "start_time": "2024-10-02T13:05:58.953230Z"
    }
   },
   "cell_type": "code",
   "source": "print(my_dict)",
   "id": "fb55713f353fcd39",
   "outputs": [
    {
     "name": "stdout",
     "output_type": "stream",
     "text": [
      "{'name': 'kamal', 'age': 20, 'city': 'kandy'}\n"
     ]
    }
   ],
   "execution_count": 5
  },
  {
   "metadata": {},
   "cell_type": "markdown",
   "source": "## Changing existing value\n",
   "id": "2e1ac1d7e81948c2"
  },
  {
   "metadata": {
    "ExecuteTime": {
     "end_time": "2024-10-02T13:11:42.975703Z",
     "start_time": "2024-10-02T13:11:42.972095Z"
    }
   },
   "cell_type": "code",
   "source": [
    "my_dict['age']=28\n",
    "print(my_dict)"
   ],
   "id": "560fcdd6d00c861a",
   "outputs": [
    {
     "name": "stdout",
     "output_type": "stream",
     "text": [
      "{'name': 'kamal', 'age': 28, 'city': 'kandy'}\n"
     ]
    }
   ],
   "execution_count": 6
  },
  {
   "metadata": {},
   "cell_type": "markdown",
   "source": "## Adding a new key value  pair ",
   "id": "395f074714c84058"
  },
  {
   "metadata": {
    "ExecuteTime": {
     "end_time": "2024-10-02T13:12:29.700700Z",
     "start_time": "2024-10-02T13:12:29.696319Z"
    }
   },
   "cell_type": "code",
   "source": [
    "my_dict['is_married']=False\n",
    "print(my_dict)"
   ],
   "id": "33fa790be6877f0e",
   "outputs": [
    {
     "name": "stdout",
     "output_type": "stream",
     "text": [
      "{'name': 'kamal', 'age': 28, 'city': 'kandy', 'is_married': False}\n"
     ]
    }
   ],
   "execution_count": 7
  },
  {
   "metadata": {},
   "cell_type": "markdown",
   "source": [
    "## Adding multiple key value pairs \n",
    "\n",
    "*Using update function*"
   ],
   "id": "1390e3a7c79d4024"
  },
  {
   "metadata": {
    "ExecuteTime": {
     "end_time": "2024-10-02T13:16:26.430585Z",
     "start_time": "2024-10-02T13:16:26.426688Z"
    }
   },
   "cell_type": "code",
   "source": [
    "my_dict.update({'is_married':True,'gender':'Male'})\n",
    "print(my_dict)"
   ],
   "id": "170b4147e523d8f",
   "outputs": [
    {
     "name": "stdout",
     "output_type": "stream",
     "text": [
      "{'name': 'kamal', 'age': 28, 'city': 'kandy', 'is_married': True, 'gender': 'Male'}\n"
     ]
    }
   ],
   "execution_count": 8
  },
  {
   "metadata": {},
   "cell_type": "markdown",
   "source": [
    "## Deleting key value pair\n",
    "### Using *del* function"
   ],
   "id": "76b5420d461671ce"
  },
  {
   "metadata": {
    "ExecuteTime": {
     "end_time": "2024-10-02T13:18:10.499407Z",
     "start_time": "2024-10-02T13:18:10.495160Z"
    }
   },
   "cell_type": "code",
   "source": [
    "del my_dict['is_married']\n",
    "print(my_dict)"
   ],
   "id": "ab99aefe9d9779d0",
   "outputs": [
    {
     "name": "stdout",
     "output_type": "stream",
     "text": [
      "{'name': 'kamal', 'age': 28, 'city': 'kandy', 'gender': 'Male'}\n"
     ]
    }
   ],
   "execution_count": 9
  },
  {
   "metadata": {},
   "cell_type": "markdown",
   "source": "### Removing values using *pop* function",
   "id": "c8fde66f43e60c53"
  },
  {
   "metadata": {
    "ExecuteTime": {
     "end_time": "2024-10-02T13:22:09.609306Z",
     "start_time": "2024-10-02T13:22:09.606250Z"
    }
   },
   "cell_type": "code",
   "source": [
    "print(my_dict.pop('name',\"Not Found\")) ## \"Not found\" is used when there is no corresponding key anything can be used instead of not found\n",
    "print(my_dict)"
   ],
   "id": "4e0537fa32fe2395",
   "outputs": [
    {
     "name": "stdout",
     "output_type": "stream",
     "text": [
      "Not Found\n",
      "{'age': 28, 'city': 'kandy', 'gender': 'Male'}\n"
     ]
    }
   ],
   "execution_count": 12
  },
  {
   "metadata": {},
   "cell_type": "code",
   "outputs": [],
   "execution_count": null,
   "source": "",
   "id": "43804ff8abcbe5be"
  }
 ],
 "metadata": {
  "kernelspec": {
   "display_name": "Python 3",
   "language": "python",
   "name": "python3"
  },
  "language_info": {
   "codemirror_mode": {
    "name": "ipython",
    "version": 2
   },
   "file_extension": ".py",
   "mimetype": "text/x-python",
   "name": "python",
   "nbconvert_exporter": "python",
   "pygments_lexer": "ipython2",
   "version": "2.7.6"
  }
 },
 "nbformat": 4,
 "nbformat_minor": 5
}
