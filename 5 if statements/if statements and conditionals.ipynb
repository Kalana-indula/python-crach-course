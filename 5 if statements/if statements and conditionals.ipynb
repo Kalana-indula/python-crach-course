{
 "cells": [
  {
   "cell_type": "code",
   "id": "initial_id",
   "metadata": {
    "collapsed": true,
    "ExecuteTime": {
     "end_time": "2024-06-18T03:49:31.697155Z",
     "start_time": "2024-06-18T03:49:31.692066Z"
    }
   },
   "source": [
    "cars=['audi','bmw','subaru','toyota']\n",
    "\n",
    "for car in cars:\n",
    "    if car=='bmw':\n",
    "        print(car.upper())\n",
    "    else:\n",
    "        print(car.title())\n",
    "        "
   ],
   "outputs": [
    {
     "name": "stdout",
     "output_type": "stream",
     "text": [
      "Audi\n",
      "BMW\n",
      "Subaru\n",
      "Toyota\n"
     ]
    }
   ],
   "execution_count": 5
  },
  {
   "metadata": {
    "ExecuteTime": {
     "end_time": "2024-06-18T03:48:31.388008Z",
     "start_time": "2024-06-18T03:48:31.383563Z"
    }
   },
   "cell_type": "code",
   "source": [
    " car='bmw'\n",
    "print(car=='bmw')"
   ],
   "id": "2447bdd27b058c70",
   "outputs": [
    {
     "name": "stdout",
     "output_type": "stream",
     "text": [
      "True\n"
     ]
    }
   ],
   "execution_count": 2
  },
  {
   "metadata": {
    "ExecuteTime": {
     "end_time": "2024-06-18T03:48:51.792171Z",
     "start_time": "2024-06-18T03:48:51.786923Z"
    }
   },
   "cell_type": "code",
   "source": [
    "car='audi'\n",
    "print(car.upper()=='audi')"
   ],
   "id": "66c5cae85a8460ee",
   "outputs": [
    {
     "name": "stdout",
     "output_type": "stream",
     "text": [
      "False\n"
     ]
    }
   ],
   "execution_count": 3
  },
  {
   "metadata": {
    "ExecuteTime": {
     "end_time": "2024-06-18T03:49:21.333043Z",
     "start_time": "2024-06-18T03:49:21.329619Z"
    }
   },
   "cell_type": "code",
   "source": [
    "car='Audi'\n",
    "print(car.lower()=='audi')"
   ],
   "id": "38af16fbcc58742a",
   "outputs": [
    {
     "name": "stdout",
     "output_type": "stream",
     "text": [
      "True\n"
     ]
    }
   ],
   "execution_count": 4
  },
  {
   "metadata": {
    "ExecuteTime": {
     "end_time": "2024-06-18T03:52:46.739400Z",
     "start_time": "2024-06-18T03:52:46.733599Z"
    }
   },
   "cell_type": "code",
   "source": [
    "answer=15\n",
    "if answer !=20:\n",
    "    print(\"Wrong answer\")"
   ],
   "id": "c7a7135500ef0ba5",
   "outputs": [
    {
     "name": "stdout",
     "output_type": "stream",
     "text": [
      "Wrong answer\n"
     ]
    }
   ],
   "execution_count": 6
  },
  {
   "metadata": {
    "ExecuteTime": {
     "end_time": "2024-06-18T04:03:23.461207Z",
     "start_time": "2024-06-18T04:03:23.456511Z"
    }
   },
   "cell_type": "code",
   "source": [
    "number=30\n",
    "\n",
    "if (number>10)and(number%10==0):\n",
    "    print('Number is greater than 10 and is divisible by 10')"
   ],
   "id": "90ef9f058b1c559a",
   "outputs": [
    {
     "name": "stdout",
     "output_type": "stream",
     "text": [
      "Number is greater than 10 and is divisible by 10\n"
     ]
    }
   ],
   "execution_count": 7
  },
  {
   "metadata": {
    "ExecuteTime": {
     "end_time": "2024-06-18T04:04:15.945136Z",
     "start_time": "2024-06-18T04:04:15.941186Z"
    }
   },
   "cell_type": "code",
   "source": [
    "requested_toppins=['mushrooms','onions','pineapple']\n",
    "print('pepperoni' in requested_toppins)"
   ],
   "id": "1e28605d595b528b",
   "outputs": [
    {
     "name": "stdout",
     "output_type": "stream",
     "text": [
      "False\n"
     ]
    }
   ],
   "execution_count": 8
  },
  {
   "metadata": {
    "ExecuteTime": {
     "end_time": "2024-06-18T06:15:52.704480Z",
     "start_time": "2024-06-18T06:15:52.699556Z"
    }
   },
   "cell_type": "code",
   "source": [
    "banned=['andrew','carolina','david']\n",
    "user='marie'\n",
    "\n",
    "if user not in banned:\n",
    "    print(f'{user.title()} is not in banned list')"
   ],
   "id": "49efeb542d1bf44",
   "outputs": [
    {
     "name": "stdout",
     "output_type": "stream",
     "text": [
      "Marie is not in banned list\n"
     ]
    }
   ],
   "execution_count": 1
  },
  {
   "metadata": {},
   "cell_type": "markdown",
   "source": "### Exercise",
   "id": "e7d74b60a8f916dd"
  },
  {
   "metadata": {
    "ExecuteTime": {
     "end_time": "2024-06-18T06:29:04.156662Z",
     "start_time": "2024-06-18T06:29:04.151803Z"
    }
   },
   "cell_type": "code",
   "source": [
    "dog_name='rex'\n",
    "print('rex' in dog_name)"
   ],
   "id": "4389663341be097b",
   "outputs": [
    {
     "name": "stdout",
     "output_type": "stream",
     "text": [
      "True\n"
     ]
    }
   ],
   "execution_count": 2
  },
  {
   "metadata": {
    "ExecuteTime": {
     "end_time": "2024-06-18T06:31:01.490164Z",
     "start_time": "2024-06-18T06:31:01.484690Z"
    }
   },
   "cell_type": "code",
   "source": [
    "car=['toyota','honda','audi','bmw']\n",
    "my_car='benz'\n",
    "if my_car in car:\n",
    "    print(f'{my_car.title()} is in the list')\n",
    "else:\n",
    "    print(f'{my_car.title()} is not in the list')\n",
    "    "
   ],
   "id": "30d3020c2074a115",
   "outputs": [
    {
     "name": "stdout",
     "output_type": "stream",
     "text": [
      "Benz is not in the list\n"
     ]
    }
   ],
   "execution_count": 3
  },
  {
   "metadata": {
    "ExecuteTime": {
     "end_time": "2024-06-18T07:19:30.893233Z",
     "start_time": "2024-06-18T07:19:30.888306Z"
    }
   },
   "cell_type": "code",
   "source": [
    "marks=[43,67,29,18,68,75]\n",
    "fail_count=0\n",
    "for mark in marks:\n",
    "    if mark < 35:\n",
    "        fail_count+=1\n",
    "    \n",
    "print(f'You have failed {fail_count} subjects')"
   ],
   "id": "88454e4920e2e294",
   "outputs": [
    {
     "name": "stdout",
     "output_type": "stream",
     "text": [
      "You have failed 2 subjects\n"
     ]
    }
   ],
   "execution_count": 8
  },
  {
   "metadata": {},
   "cell_type": "code",
   "outputs": [],
   "execution_count": null,
   "source": "",
   "id": "69b588e8a2e292dc"
  }
 ],
 "metadata": {
  "kernelspec": {
   "display_name": "Python 3",
   "language": "python",
   "name": "python3"
  },
  "language_info": {
   "codemirror_mode": {
    "name": "ipython",
    "version": 2
   },
   "file_extension": ".py",
   "mimetype": "text/x-python",
   "name": "python",
   "nbconvert_exporter": "python",
   "pygments_lexer": "ipython2",
   "version": "2.7.6"
  }
 },
 "nbformat": 4,
 "nbformat_minor": 5
}
