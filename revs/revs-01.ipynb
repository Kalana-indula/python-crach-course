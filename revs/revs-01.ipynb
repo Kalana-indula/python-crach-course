{
 "cells": [
  {
   "cell_type": "code",
   "execution_count": 3,
   "metadata": {},
   "outputs": [
    {
     "name": "stdout",
     "output_type": "stream",
     "text": [
      "['Subaru', 'Toyota', 'audi', 'benz', 'bmw']\n"
     ]
    }
   ],
   "source": [
    "cars=['bmw','benz','audi','Toyota','Subaru']\n",
    "cars.sort()\n",
    "print(cars)\n"
   ]
  },
  {
   "cell_type": "code",
   "execution_count": 4,
   "metadata": {},
   "outputs": [
    {
     "name": "stdout",
     "output_type": "stream",
     "text": [
      "['bmw', 'benz', 'audi', 'Toyota', 'Subaru']\n"
     ]
    }
   ],
   "source": [
    "cars.reverse()\n",
    "print(cars)"
   ]
  },
  {
   "cell_type": "code",
   "execution_count": 5,
   "metadata": {},
   "outputs": [
    {
     "name": "stdout",
     "output_type": "stream",
     "text": [
      "['charles', 'martina', 'michel']\n"
     ]
    }
   ],
   "source": [
    "players=['charles','martina','michel','florance','eli']\n",
    "print(players[0:3])"
   ]
  },
  {
   "cell_type": "code",
   "execution_count": 6,
   "metadata": {},
   "outputs": [
    {
     "name": "stdout",
     "output_type": "stream",
     "text": [
      "['charles', 'martina', 'michel', 'florance']\n"
     ]
    }
   ],
   "source": [
    "print(players[0:4])"
   ]
  },
  {
   "cell_type": "code",
   "execution_count": 7,
   "metadata": {},
   "outputs": [
    {
     "name": "stdout",
     "output_type": "stream",
     "text": [
      "['charles', 'martina', 'michel', 'florance', 'eli']\n"
     ]
    }
   ],
   "source": [
    "print(players[0:])"
   ]
  },
  {
   "cell_type": "code",
   "execution_count": 9,
   "metadata": {},
   "outputs": [
    {
     "name": "stdout",
     "output_type": "stream",
     "text": [
      "['charles', 'martina', 'michel', 'florance', 'eli']\n",
      "['charles', 'martina', 'michel', 'florance']\n"
     ]
    }
   ],
   "source": [
    "print(players)\n",
    "print(players[:4])"
   ]
  },
  {
   "cell_type": "code",
   "execution_count": 10,
   "metadata": {},
   "outputs": [
    {
     "name": "stdout",
     "output_type": "stream",
     "text": [
      "['charles', 'martina', 'michel', 'florance', 'eli']\n",
      "['michel', 'florance', 'eli']\n"
     ]
    }
   ],
   "source": [
    "print(players)\n",
    "print(players[-3:])"
   ]
  },
  {
   "cell_type": "code",
   "execution_count": 11,
   "metadata": {},
   "outputs": [
    {
     "name": "stdout",
     "output_type": "stream",
     "text": [
      "['charles', 'martina', 'michel', 'florance', 'eli']\n",
      "['charles', 'martina']\n"
     ]
    }
   ],
   "source": [
    "print(players)\n",
    "print(players[:-3])"
   ]
  },
  {
   "cell_type": "code",
   "execution_count": 12,
   "metadata": {},
   "outputs": [
    {
     "name": "stdout",
     "output_type": "stream",
     "text": [
      "My favorite pizza are\n",
      "chicken\n",
      "seafood\n",
      "vegi\n",
      "cheese\n",
      "peparoni\n"
     ]
    }
   ],
   "source": [
    "my_pizza=['chicken','seafood','vegi','cheese','peparoni']\n",
    "print('My favorite pizza are')\n",
    "for pizza in my_pizza:\n",
    "    print(pizza)"
   ]
  },
  {
   "cell_type": "code",
   "execution_count": 13,
   "metadata": {},
   "outputs": [
    {
     "name": "stdout",
     "output_type": "stream",
     "text": [
      "chicken\n",
      "seafood\n",
      "vegi\n",
      "cheese\n",
      "peparoni\n",
      "mushroom\n"
     ]
    }
   ],
   "source": [
    "my_friend_pizza=my_pizza[:]\n",
    "my_friend_pizza.append('mushroom')\n",
    "for pizza in my_friend_pizza:\n",
    "    print(pizza)"
   ]
  },
  {
   "cell_type": "code",
   "execution_count": 23,
   "metadata": {},
   "outputs": [
    {
     "name": "stdout",
     "output_type": "stream",
     "text": [
      "False\n",
      "cheese is not available in our menue\n"
     ]
    }
   ],
   "source": [
    "available_toppings=['mushrooms','green peppers','extra cheese']\n",
    "requested_topping=input('Enter a topping you prefer : ')\n",
    "\n",
    "# for topping in available_toppings:\n",
    "#     if topping != requested_topping:\n",
    "#         print(f\"Sorry we don't have {requested_topping} in our menu\")\n",
    "\n",
    "\n",
    "print(requested_topping in available_toppings)\n",
    "\n",
    "isAvailable=requested_topping in available_toppings\n",
    "\n",
    "if(isAvailable):\n",
    "    print(f\"{requested_topping} is putting on your pizza\")\n",
    "else:\n",
    "    print(f\"{requested_topping} is not available in our menue\")"
   ]
  },
  {
   "metadata": {
    "ExecuteTime": {
     "end_time": "2024-10-02T12:36:30.789229Z",
     "start_time": "2024-10-02T12:36:30.786237Z"
    }
   },
   "cell_type": "code",
   "source": [
    "numList=(1,2,3,4,5,6)\n",
    "for number in numList:\n",
    "    print(number)\n",
    "\n",
    "print(f'length {len(numList)}')"
   ],
   "outputs": [
    {
     "name": "stdout",
     "output_type": "stream",
     "text": [
      "1\n",
      "2\n",
      "3\n",
      "4\n",
      "5\n",
      "6\n",
      "length 6\n"
     ]
    }
   ],
   "execution_count": 5
  },
  {
   "metadata": {},
   "cell_type": "code",
   "outputs": [],
   "execution_count": null,
   "source": ""
  }
 ],
 "metadata": {
  "kernelspec": {
   "display_name": ".venv",
   "language": "python",
   "name": "python3"
  },
  "language_info": {
   "codemirror_mode": {
    "name": "ipython",
    "version": 3
   },
   "file_extension": ".py",
   "mimetype": "text/x-python",
   "name": "python",
   "nbconvert_exporter": "python",
   "pygments_lexer": "ipython3",
   "version": "3.12.3"
  }
 },
 "nbformat": 4,
 "nbformat_minor": 2
}
