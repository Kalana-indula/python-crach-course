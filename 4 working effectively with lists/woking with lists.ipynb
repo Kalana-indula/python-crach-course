{
 "cells": [
  {
   "metadata": {},
   "cell_type": "markdown",
   "source": "# *Working with lists*",
   "id": "902c5ca764dc3f0"
  },
  {
   "metadata": {},
   "cell_type": "markdown",
   "source": "## Lists with for loops",
   "id": "4707897cff7f5298"
  },
  {
   "metadata": {
    "ExecuteTime": {
     "end_time": "2024-06-16T13:01:40.347559Z",
     "start_time": "2024-06-16T13:01:40.342336Z"
    }
   },
   "cell_type": "code",
   "source": [
    "magicians=['alice','david','carolina']\n",
    "\n",
    "for magician in magicians:\n",
    "    print(magician)"
   ],
   "id": "58cd4f993908cc74",
   "outputs": [
    {
     "name": "stdout",
     "output_type": "stream",
     "text": [
      "alice\n",
      "david\n",
      "carolina\n"
     ]
    }
   ],
   "execution_count": 1
  },
  {
   "metadata": {
    "ExecuteTime": {
     "end_time": "2024-06-16T13:04:04.589685Z",
     "start_time": "2024-06-16T13:04:04.586703Z"
    }
   },
   "cell_type": "code",
   "source": [
    "for magician in magicians:\n",
    "    print(f'{magician} is a great magician')"
   ],
   "id": "284b98fc58aab02e",
   "outputs": [
    {
     "name": "stdout",
     "output_type": "stream",
     "text": [
      "alice is a great magician\n",
      "david is a great magician\n",
      "carolina is a great magician\n"
     ]
    }
   ],
   "execution_count": 3
  },
  {
   "metadata": {
    "ExecuteTime": {
     "end_time": "2024-06-16T13:05:24.575389Z",
     "start_time": "2024-06-16T13:05:24.571895Z"
    }
   },
   "cell_type": "code",
   "source": [
    "for magician in magicians:\n",
    "    print(f'{magician} is a great magician')\n",
    "    print(f\"we can't wait to see next trick {magician}.\\n\")"
   ],
   "id": "6d8ed91fadc65ca6",
   "outputs": [
    {
     "name": "stdout",
     "output_type": "stream",
     "text": [
      "alice is a great magician\n",
      "we can't wait to see next trick alice.\n",
      "\n",
      "david is a great magician\n",
      "we can't wait to see next trick david.\n",
      "\n",
      "carolina is a great magician\n",
      "we can't wait to see next trick carolina.\n",
      "\n"
     ]
    }
   ],
   "execution_count": 5
  },
  {
   "metadata": {},
   "cell_type": "markdown",
   "source": "## Exercises",
   "id": "6b8825eea35f5e35"
  },
  {
   "metadata": {
    "ExecuteTime": {
     "end_time": "2024-06-16T13:14:28.835099Z",
     "start_time": "2024-06-16T13:14:28.830825Z"
    }
   },
   "cell_type": "code",
   "source": [
    "pizzas=['pepperoni','margerita','hawaian']\n",
    "\n",
    "for pizza in pizzas:\n",
    "    print(pizza)"
   ],
   "id": "9986e67b4e63b578",
   "outputs": [
    {
     "name": "stdout",
     "output_type": "stream",
     "text": [
      "pepperoni\n",
      "margerita\n",
      "hawaian\n"
     ]
    }
   ],
   "execution_count": 6
  },
  {
   "metadata": {
    "ExecuteTime": {
     "end_time": "2024-06-16T13:15:46.351772Z",
     "start_time": "2024-06-16T13:15:46.348015Z"
    }
   },
   "cell_type": "code",
   "source": [
    "animals=['ant eater','platipus','duck']\n",
    "\n",
    "for animal in animals:\n",
    "    print(f'{animal} lays eggs')"
   ],
   "id": "a674e2ddfe268c90",
   "outputs": [
    {
     "name": "stdout",
     "output_type": "stream",
     "text": [
      "ant eater lays eggs\n",
      "platipus lays eggs\n",
      "duck lays eggs\n"
     ]
    }
   ],
   "execution_count": 7
  },
  {
   "metadata": {},
   "cell_type": "code",
   "outputs": [],
   "execution_count": null,
   "source": "",
   "id": "c5a25db7b83d2698"
  }
 ],
 "metadata": {
  "kernelspec": {
   "display_name": "Python 3",
   "language": "python",
   "name": "python3"
  },
  "language_info": {
   "codemirror_mode": {
    "name": "ipython",
    "version": 2
   },
   "file_extension": ".py",
   "mimetype": "text/x-python",
   "name": "python",
   "nbconvert_exporter": "python",
   "pygments_lexer": "ipython2",
   "version": "2.7.6"
  }
 },
 "nbformat": 4,
 "nbformat_minor": 5
}
